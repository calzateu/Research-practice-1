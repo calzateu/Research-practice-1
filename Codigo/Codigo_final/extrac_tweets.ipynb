{
 "cells": [
  {
   "cell_type": "code",
   "execution_count": 212,
   "metadata": {},
   "outputs": [],
   "source": [
    "import os\n",
    "import tweepy\n",
    "from dotenv import load_dotenv\n",
    "\n",
    "import json"
   ]
  },
  {
   "cell_type": "code",
   "execution_count": 165,
   "metadata": {},
   "outputs": [],
   "source": [
    "load_dotenv()\n",
    "\n",
    "consumer_key = os.environ[\"API_KEY\"]\n",
    "consumer_secret = os.environ[\"API_KEY_SECRET\"]\n",
    "access_token = os.environ[\"ACCESS_TOKEN\"]\n",
    "access_token_secret = os.environ[\"ACCESS_TOKEN_SECRET\"]\n",
    "bearer_token = os.environ[\"BEARER_TOKEN\"]\n",
    "\n",
    "\n",
    "client = tweepy.Client(\n",
    "  bearer_token=bearer_token,\n",
    "  consumer_key=consumer_key,\n",
    "  consumer_secret=consumer_secret,\n",
    "  access_token=access_token,\n",
    "  access_token_secret=access_token_secret,\n",
    "  wait_on_rate_limit=True\n",
    ")"
   ]
  },
  {
   "cell_type": "code",
   "execution_count": 166,
   "metadata": {},
   "outputs": [],
   "source": [
    "def extraer_cuentas_usuarios(lista_cuentas, lista_tweets, response):\n",
    "    #for i in range(len(response.data)):\n",
    "    for i in range(len(response.includes['users'])):\n",
    "        #lista_cuentas.append(response.includes['users'][i].username)\n",
    "        lista_cuentas.append(response.includes['users'][i])\n",
    "        lista_tweets.append(response.data[i].text)\n",
    "\n",
    "    print(len(lista_cuentas))"
   ]
  },
  {
   "cell_type": "code",
   "execution_count": 192,
   "metadata": {},
   "outputs": [
    {
     "name": "stdout",
     "output_type": "stream",
     "text": [
      "100\n"
     ]
    }
   ],
   "source": [
    "# Search Recent Tweets\n",
    "# This endpoint/method returns Tweets from the last seven days\n",
    "\n",
    "#query = 'depresión yo tengo'\n",
    "#query = 'Petro'\n",
    "query = 'Saben? A veces me pongo en los zapatos de Gustavo Petro y hasta me compadezco de él'\n",
    "#query = 'eafit'\n",
    "\n",
    "# The method returns a Response object, a named tuple with data, includes,\n",
    "# errors, and meta fields\n",
    "\n",
    "cuentas_usuarios = []\n",
    "tweets = []\n",
    "for response in tweepy.Paginator(client.search_recent_tweets,\n",
    "                                query,\n",
    "                                tweet_fields=['id', 'author_id', 'text'],\n",
    "                                user_fields=['id', 'username', 'location'],\n",
    "                                expansions='author_id',\n",
    "                                max_results=100, limit=1):#.flatten(limit=100):\n",
    "    extraer_cuentas_usuarios(cuentas_usuarios, tweets, response)\n",
    "\n"
   ]
  },
  {
   "cell_type": "code",
   "execution_count": 193,
   "metadata": {},
   "outputs": [
    {
     "name": "stdout",
     "output_type": "stream",
     "text": [
      "100\n"
     ]
    }
   ],
   "source": [
    "print(len(cuentas_usuarios))"
   ]
  },
  {
   "cell_type": "code",
   "execution_count": 194,
   "metadata": {},
   "outputs": [
    {
     "name": "stdout",
     "output_type": "stream",
     "text": [
      "['RT @FisicoImpuro: Saben? A veces me pongo en los zapatos de Gustavo Petro y hasta me compadezco de él. El mierdero de país que le van a ent…', 'RT @FisicoImpuro: Saben? A veces me pongo en los zapatos de Gustavo Petro y hasta me compadezco de él. El mierdero de país que le van a ent…', 'RT @FisicoImpuro: Saben? A veces me pongo en los zapatos de Gustavo Petro y hasta me compadezco de él. El mierdero de país que le van a ent…', 'RT @FisicoImpuro: Saben? A veces me pongo en los zapatos de Gustavo Petro y hasta me compadezco de él. El mierdero de país que le van a ent…', 'RT @FisicoImpuro: Saben? A veces me pongo en los zapatos de Gustavo Petro y hasta me compadezco de él. El mierdero de país que le van a ent…', 'RT @FisicoImpuro: Saben? A veces me pongo en los zapatos de Gustavo Petro y hasta me compadezco de él. El mierdero de país que le van a ent…', 'RT @FisicoImpuro: Saben? A veces me pongo en los zapatos de Gustavo Petro y hasta me compadezco de él. El mierdero de país que le van a ent…', 'RT @FisicoImpuro: Saben? A veces me pongo en los zapatos de Gustavo Petro y hasta me compadezco de él. El mierdero de país que le van a ent…', 'RT @FisicoImpuro: Saben? A veces me pongo en los zapatos de Gustavo Petro y hasta me compadezco de él. El mierdero de país que le van a ent…', 'RT @FisicoImpuro: Saben? A veces me pongo en los zapatos de Gustavo Petro y hasta me compadezco de él. El mierdero de país que le van a ent…', 'RT @FisicoImpuro: Saben? A veces me pongo en los zapatos de Gustavo Petro y hasta me compadezco de él. El mierdero de país que le van a ent…', 'RT @FisicoImpuro: Saben? A veces me pongo en los zapatos de Gustavo Petro y hasta me compadezco de él. El mierdero de país que le van a ent…', 'RT @FisicoImpuro: Saben? A veces me pongo en los zapatos de Gustavo Petro y hasta me compadezco de él. El mierdero de país que le van a ent…', 'RT @FisicoImpuro: Saben? A veces me pongo en los zapatos de Gustavo Petro y hasta me compadezco de él. El mierdero de país que le van a ent…', 'RT @FisicoImpuro: Saben? A veces me pongo en los zapatos de Gustavo Petro y hasta me compadezco de él. El mierdero de país que le van a ent…', 'RT @FisicoImpuro: Saben? A veces me pongo en los zapatos de Gustavo Petro y hasta me compadezco de él. El mierdero de país que le van a ent…', 'RT @FisicoImpuro: Saben? A veces me pongo en los zapatos de Gustavo Petro y hasta me compadezco de él. El mierdero de país que le van a ent…', 'RT @FisicoImpuro: Saben? A veces me pongo en los zapatos de Gustavo Petro y hasta me compadezco de él. El mierdero de país que le van a ent…', 'RT @FisicoImpuro: Saben? A veces me pongo en los zapatos de Gustavo Petro y hasta me compadezco de él. El mierdero de país que le van a ent…', 'RT @FisicoImpuro: Saben? A veces me pongo en los zapatos de Gustavo Petro y hasta me compadezco de él. El mierdero de país que le van a ent…', 'RT @FisicoImpuro: Saben? A veces me pongo en los zapatos de Gustavo Petro y hasta me compadezco de él. El mierdero de país que le van a ent…', 'RT @FisicoImpuro: Saben? A veces me pongo en los zapatos de Gustavo Petro y hasta me compadezco de él. El mierdero de país que le van a ent…', 'RT @FisicoImpuro: Saben? A veces me pongo en los zapatos de Gustavo Petro y hasta me compadezco de él. El mierdero de país que le van a ent…', 'RT @FisicoImpuro: Saben? A veces me pongo en los zapatos de Gustavo Petro y hasta me compadezco de él. El mierdero de país que le van a ent…', 'RT @FisicoImpuro: Saben? A veces me pongo en los zapatos de Gustavo Petro y hasta me compadezco de él. El mierdero de país que le van a ent…', 'RT @FisicoImpuro: Saben? A veces me pongo en los zapatos de Gustavo Petro y hasta me compadezco de él. El mierdero de país que le van a ent…', 'RT @FisicoImpuro: Saben? A veces me pongo en los zapatos de Gustavo Petro y hasta me compadezco de él. El mierdero de país que le van a ent…', 'RT @FisicoImpuro: Saben? A veces me pongo en los zapatos de Gustavo Petro y hasta me compadezco de él. El mierdero de país que le van a ent…', 'RT @FisicoImpuro: Saben? A veces me pongo en los zapatos de Gustavo Petro y hasta me compadezco de él. El mierdero de país que le van a ent…', 'RT @FisicoImpuro: Saben? A veces me pongo en los zapatos de Gustavo Petro y hasta me compadezco de él. El mierdero de país que le van a ent…', 'RT @FisicoImpuro: Saben? A veces me pongo en los zapatos de Gustavo Petro y hasta me compadezco de él. El mierdero de país que le van a ent…', 'RT @FisicoImpuro: Saben? A veces me pongo en los zapatos de Gustavo Petro y hasta me compadezco de él. El mierdero de país que le van a ent…', 'RT @FisicoImpuro: Saben? A veces me pongo en los zapatos de Gustavo Petro y hasta me compadezco de él. El mierdero de país que le van a ent…', 'RT @FisicoImpuro: Saben? A veces me pongo en los zapatos de Gustavo Petro y hasta me compadezco de él. El mierdero de país que le van a ent…', 'RT @FisicoImpuro: Saben? A veces me pongo en los zapatos de Gustavo Petro y hasta me compadezco de él. El mierdero de país que le van a ent…', 'RT @FisicoImpuro: Saben? A veces me pongo en los zapatos de Gustavo Petro y hasta me compadezco de él. El mierdero de país que le van a ent…', 'RT @FisicoImpuro: Saben? A veces me pongo en los zapatos de Gustavo Petro y hasta me compadezco de él. El mierdero de país que le van a ent…', 'RT @FisicoImpuro: Saben? A veces me pongo en los zapatos de Gustavo Petro y hasta me compadezco de él. El mierdero de país que le van a ent…', 'RT @FisicoImpuro: Saben? A veces me pongo en los zapatos de Gustavo Petro y hasta me compadezco de él. El mierdero de país que le van a ent…', 'RT @FisicoImpuro: Saben? A veces me pongo en los zapatos de Gustavo Petro y hasta me compadezco de él. El mierdero de país que le van a ent…', 'RT @FisicoImpuro: Saben? A veces me pongo en los zapatos de Gustavo Petro y hasta me compadezco de él. El mierdero de país que le van a ent…', 'RT @FisicoImpuro: Saben? A veces me pongo en los zapatos de Gustavo Petro y hasta me compadezco de él. El mierdero de país que le van a ent…', 'RT @FisicoImpuro: Saben? A veces me pongo en los zapatos de Gustavo Petro y hasta me compadezco de él. El mierdero de país que le van a ent…', 'RT @FisicoImpuro: Saben? A veces me pongo en los zapatos de Gustavo Petro y hasta me compadezco de él. El mierdero de país que le van a ent…', 'RT @FisicoImpuro: Saben? A veces me pongo en los zapatos de Gustavo Petro y hasta me compadezco de él. El mierdero de país que le van a ent…', 'RT @FisicoImpuro: Saben? A veces me pongo en los zapatos de Gustavo Petro y hasta me compadezco de él. El mierdero de país que le van a ent…', 'RT @FisicoImpuro: Saben? A veces me pongo en los zapatos de Gustavo Petro y hasta me compadezco de él. El mierdero de país que le van a ent…', 'RT @FisicoImpuro: Saben? A veces me pongo en los zapatos de Gustavo Petro y hasta me compadezco de él. El mierdero de país que le van a ent…', 'RT @FisicoImpuro: Saben? A veces me pongo en los zapatos de Gustavo Petro y hasta me compadezco de él. El mierdero de país que le van a ent…', 'RT @FisicoImpuro: Saben? A veces me pongo en los zapatos de Gustavo Petro y hasta me compadezco de él. El mierdero de país que le van a ent…', 'RT @FisicoImpuro: Saben? A veces me pongo en los zapatos de Gustavo Petro y hasta me compadezco de él. El mierdero de país que le van a ent…', 'RT @FisicoImpuro: Saben? A veces me pongo en los zapatos de Gustavo Petro y hasta me compadezco de él. El mierdero de país que le van a ent…', 'RT @FisicoImpuro: Saben? A veces me pongo en los zapatos de Gustavo Petro y hasta me compadezco de él. El mierdero de país que le van a ent…', 'RT @FisicoImpuro: Saben? A veces me pongo en los zapatos de Gustavo Petro y hasta me compadezco de él. El mierdero de país que le van a ent…', 'RT @FisicoImpuro: Saben? A veces me pongo en los zapatos de Gustavo Petro y hasta me compadezco de él. El mierdero de país que le van a ent…', 'RT @FisicoImpuro: Saben? A veces me pongo en los zapatos de Gustavo Petro y hasta me compadezco de él. El mierdero de país que le van a ent…', 'RT @FisicoImpuro: Saben? A veces me pongo en los zapatos de Gustavo Petro y hasta me compadezco de él. El mierdero de país que le van a ent…', 'RT @FisicoImpuro: Saben? A veces me pongo en los zapatos de Gustavo Petro y hasta me compadezco de él. El mierdero de país que le van a ent…', 'RT @FisicoImpuro: Saben? A veces me pongo en los zapatos de Gustavo Petro y hasta me compadezco de él. El mierdero de país que le van a ent…', 'RT @marimonda_la: Saben? A veces me pongo en los zapatos de Gustavo Petro y hasta me compadezco de él. El mierdero de país que le van a ent…', 'RT @FisicoImpuro: Saben? A veces me pongo en los zapatos de Gustavo Petro y hasta me compadezco de él. El mierdero de país que le van a ent…', 'RT @FisicoImpuro: Saben? A veces me pongo en los zapatos de Gustavo Petro y hasta me compadezco de él. El mierdero de país que le van a ent…', 'RT @FisicoImpuro: Saben? A veces me pongo en los zapatos de Gustavo Petro y hasta me compadezco de él. El mierdero de país que le van a ent…', 'RT @FisicoImpuro: Saben? A veces me pongo en los zapatos de Gustavo Petro y hasta me compadezco de él. El mierdero de país que le van a ent…', 'RT @FisicoImpuro: Saben? A veces me pongo en los zapatos de Gustavo Petro y hasta me compadezco de él. El mierdero de país que le van a ent…', 'RT @FisicoImpuro: Saben? A veces me pongo en los zapatos de Gustavo Petro y hasta me compadezco de él. El mierdero de país que le van a ent…', 'RT @FisicoImpuro: Saben? A veces me pongo en los zapatos de Gustavo Petro y hasta me compadezco de él. El mierdero de país que le van a ent…', 'RT @FisicoImpuro: Saben? A veces me pongo en los zapatos de Gustavo Petro y hasta me compadezco de él. El mierdero de país que le van a ent…', 'RT @FisicoImpuro: Saben? A veces me pongo en los zapatos de Gustavo Petro y hasta me compadezco de él. El mierdero de país que le van a ent…', 'RT @FisicoImpuro: Saben? A veces me pongo en los zapatos de Gustavo Petro y hasta me compadezco de él. El mierdero de país que le van a ent…', 'RT @FisicoImpuro: Saben? A veces me pongo en los zapatos de Gustavo Petro y hasta me compadezco de él. El mierdero de país que le van a ent…', 'RT @FisicoImpuro: Saben? A veces me pongo en los zapatos de Gustavo Petro y hasta me compadezco de él. El mierdero de país que le van a ent…', 'RT @FisicoImpuro: Saben? A veces me pongo en los zapatos de Gustavo Petro y hasta me compadezco de él. El mierdero de país que le van a ent…', 'RT @FisicoImpuro: Saben? A veces me pongo en los zapatos de Gustavo Petro y hasta me compadezco de él. El mierdero de país que le van a ent…', 'RT @FisicoImpuro: Saben? A veces me pongo en los zapatos de Gustavo Petro y hasta me compadezco de él. El mierdero de país que le van a ent…', 'RT @FisicoImpuro: Saben? A veces me pongo en los zapatos de Gustavo Petro y hasta me compadezco de él. El mierdero de país que le van a ent…', 'RT @FisicoImpuro: Saben? A veces me pongo en los zapatos de Gustavo Petro y hasta me compadezco de él. El mierdero de país que le van a ent…', 'RT @FisicoImpuro: Saben? A veces me pongo en los zapatos de Gustavo Petro y hasta me compadezco de él. El mierdero de país que le van a ent…', 'RT @FisicoImpuro: Saben? A veces me pongo en los zapatos de Gustavo Petro y hasta me compadezco de él. El mierdero de país que le van a ent…', 'RT @FisicoImpuro: Saben? A veces me pongo en los zapatos de Gustavo Petro y hasta me compadezco de él. El mierdero de país que le van a ent…', 'RT @FisicoImpuro: Saben? A veces me pongo en los zapatos de Gustavo Petro y hasta me compadezco de él. El mierdero de país que le van a ent…', 'RT @FisicoImpuro: Saben? A veces me pongo en los zapatos de Gustavo Petro y hasta me compadezco de él. El mierdero de país que le van a ent…', 'RT @FisicoImpuro: Saben? A veces me pongo en los zapatos de Gustavo Petro y hasta me compadezco de él. El mierdero de país que le van a ent…', 'RT @FisicoImpuro: Saben? A veces me pongo en los zapatos de Gustavo Petro y hasta me compadezco de él. El mierdero de país que le van a ent…', 'RT @FisicoImpuro: Saben? A veces me pongo en los zapatos de Gustavo Petro y hasta me compadezco de él. El mierdero de país que le van a ent…', 'RT @FisicoImpuro: Saben? A veces me pongo en los zapatos de Gustavo Petro y hasta me compadezco de él. El mierdero de país que le van a ent…', 'RT @FisicoImpuro: Saben? A veces me pongo en los zapatos de Gustavo Petro y hasta me compadezco de él. El mierdero de país que le van a ent…', 'RT @FisicoImpuro: Saben? A veces me pongo en los zapatos de Gustavo Petro y hasta me compadezco de él. El mierdero de país que le van a ent…', 'RT @FisicoImpuro: Saben? A veces me pongo en los zapatos de Gustavo Petro y hasta me compadezco de él. El mierdero de país que le van a ent…', 'RT @FisicoImpuro: Saben? A veces me pongo en los zapatos de Gustavo Petro y hasta me compadezco de él. El mierdero de país que le van a ent…', 'RT @FisicoImpuro: Saben? A veces me pongo en los zapatos de Gustavo Petro y hasta me compadezco de él. El mierdero de país que le van a ent…', 'RT @FisicoImpuro: Saben? A veces me pongo en los zapatos de Gustavo Petro y hasta me compadezco de él. El mierdero de país que le van a ent…', 'RT @FisicoImpuro: Saben? A veces me pongo en los zapatos de Gustavo Petro y hasta me compadezco de él. El mierdero de país que le van a ent…', 'RT @FisicoImpuro: Saben? A veces me pongo en los zapatos de Gustavo Petro y hasta me compadezco de él. El mierdero de país que le van a ent…', 'RT @FisicoImpuro: Saben? A veces me pongo en los zapatos de Gustavo Petro y hasta me compadezco de él. El mierdero de país que le van a ent…', 'RT @FisicoImpuro: Saben? A veces me pongo en los zapatos de Gustavo Petro y hasta me compadezco de él. El mierdero de país que le van a ent…', 'RT @FisicoImpuro: Saben? A veces me pongo en los zapatos de Gustavo Petro y hasta me compadezco de él. El mierdero de país que le van a ent…', 'RT @FisicoImpuro: Saben? A veces me pongo en los zapatos de Gustavo Petro y hasta me compadezco de él. El mierdero de país que le van a ent…', 'RT @FisicoImpuro: Saben? A veces me pongo en los zapatos de Gustavo Petro y hasta me compadezco de él. El mierdero de país que le van a ent…', 'RT @FisicoImpuro: Saben? A veces me pongo en los zapatos de Gustavo Petro y hasta me compadezco de él. El mierdero de país que le van a ent…']\n"
     ]
    }
   ],
   "source": [
    "print(tweets)"
   ]
  },
  {
   "cell_type": "code",
   "execution_count": 195,
   "metadata": {},
   "outputs": [
    {
     "name": "stdout",
     "output_type": "stream",
     "text": [
      "coloмвιa \n",
      "None\n",
      "None\n",
      "None\n",
      "None\n",
      "None\n",
      "None\n",
      "None\n",
      "None\n",
      "Maracay, venezuela\n",
      "Bucaramanga, Colombia\n",
      "None\n",
      "None\n",
      "None\n",
      "CALI\n",
      "None\n",
      "Riohacha, Colombia\n",
      "None\n",
      "None\n",
      "None\n",
      "Cali, Valle del Cauca\n",
      "Colombia\n",
      "None\n",
      "None\n",
      "None\n",
      "None\n",
      "None\n",
      "Cali, Colombia\n",
      "Arauca\n",
      "None\n",
      "None\n",
      "Iowa City, IA\n",
      "None\n",
      "None\n",
      "None\n",
      "Valledupar-cesar\n",
      "CAJÚRU\n",
      "None\n",
      "Barranquilla colombia\n",
      "None\n",
      "None\n",
      "None\n",
      "None\n",
      "None\n",
      "Turquía\n",
      "España\n",
      "None\n",
      "Pereira, Colombia\n",
      "colombia-Tolima-Libano\n",
      "Caloto, Colombia\n",
      "None\n",
      "Bogotá - Colombia \n",
      "Los Ojos de Kim Taehyung \n",
      "None\n",
      "None\n",
      "None\n",
      "None\n",
      "None\n",
      "None\n",
      "None\n",
      "None\n",
      "Putumayo, Colombia\n",
      "Pasto, Nariño, Colombia\n",
      "La Guajira,\n",
      "None\n",
      "None\n",
      "Cali, Colombia\n",
      "None\n",
      "Puerto Berrio\n",
      "Bogotá, D.C., Colombia\n",
      "Bogotá, D.C., Colombia\n",
      "Cali, Colombia\n",
      "Bogotá\n",
      "Medellin\n",
      "Wageningen + Nederland\n",
      "Colombia\n",
      "BOGOTA D.C. COLOMBIANO \n",
      "None\n",
      "None\n",
      "Medellín\n",
      "None\n",
      "None\n",
      "None\n",
      "Santa Rosa de Osos, Colombia\n",
      "Entre Bogotá Yopal Tolima\n",
      "None\n",
      "Por ahí/everywhere\n",
      "None\n",
      "Colombia\n",
      "None\n",
      "Val Müstair, Suiza\n",
      "None\n",
      "None\n",
      "None\n",
      "Colombia\n",
      "None\n",
      "La Virginia, Colombia\n",
      "Bogotá\n",
      "None\n",
      "None\n"
     ]
    }
   ],
   "source": [
    "for usuario in cuentas_usuarios:\n",
    "    print(usuario.location)"
   ]
  },
  {
   "cell_type": "code",
   "execution_count": 196,
   "metadata": {},
   "outputs": [],
   "source": [
    "usuarios = []\n",
    "ids_usuarios = []\n",
    "for usuario in cuentas_usuarios:\n",
    "    if (usuario.location is not None):\n",
    "        if ('Medellin' in usuario.location) or ('Medellín' in usuario.location) or ('medellin' in usuario.location) or ('medellín' in usuario.location):\n",
    "            usuarios.append(usuario.username)\n",
    "            ids_usuarios.append(usuario.id)"
   ]
  },
  {
   "cell_type": "code",
   "execution_count": 197,
   "metadata": {},
   "outputs": [
    {
     "name": "stdout",
     "output_type": "stream",
     "text": [
      "['Charlie4Gomez', 'carturo82']\n",
      "[193148445, 1252978644]\n"
     ]
    }
   ],
   "source": [
    "print(usuarios)\n",
    "print(ids_usuarios)"
   ]
  },
  {
   "cell_type": "code",
   "execution_count": 198,
   "metadata": {},
   "outputs": [],
   "source": [
    "diccionario_ids_usuarios = dict(zip(ids_usuarios, usuarios))"
   ]
  },
  {
   "cell_type": "code",
   "execution_count": 208,
   "metadata": {},
   "outputs": [],
   "source": [
    "def extraer_tweets_usuarios(id, diccionario, response):\n",
    "    #for i in range(len(response.data)):\n",
    "    if id in list(diccionario.keys()):\n",
    "        lista_tweets = diccionario[id]\n",
    "    else:\n",
    "        lista_tweets = []\n",
    "    cont = 0\n",
    "    for i in range(len(response.data)):\n",
    "        if response.data[i]['referenced_tweets']:\n",
    "            try:\n",
    "                #print(cont, len(response.includes['tweets']))\n",
    "                lista_tweets.append(response.includes['tweets'][cont].text)\n",
    "                #print(response.data[i]['referenced_tweets'][0]['type'])\n",
    "                cont += 1\n",
    "\n",
    "                # print(cont)\n",
    "                # print(response.includes['tweets'][cont])\n",
    "                # #print(response.data[i]['referenced_tweets'][0]['type'])\n",
    "                # print(response.data[i]['referenced_tweets'])\n",
    "                # print()\n",
    "            except:\n",
    "                #print('Sobrepasó: ', cont)\n",
    "                lista_tweets.append(response.data[i].text)\n",
    "\n",
    "        else:\n",
    "            lista_tweets.append(response.data[i].text)\n",
    "\n",
    "    diccionario[id] = lista_tweets"
   ]
  },
  {
   "cell_type": "code",
   "execution_count": 209,
   "metadata": {},
   "outputs": [],
   "source": [
    "users_tweets = dict()\n",
    "for id_usuario in ids_usuarios:\n",
    "    for response in tweepy.Paginator(client.get_users_tweets,\n",
    "                                    id_usuario,\n",
    "                                    tweet_fields=['id', 'author_id', 'text'],\n",
    "                                    user_fields=['id', 'username', 'location'],\n",
    "                                    expansions='referenced_tweets.id',\n",
    "                                    #expansions='author_id',\n",
    "                                    max_results=100, limit=1):#.flatten(limit=100):\n",
    "        extraer_tweets_usuarios(id_usuario, users_tweets, response)\n",
    "        # print(len(response.includes['tweets']))\n",
    "        # print(response.includes['tweets'])\n",
    "        # print(response.includes['tweets'][85])\n",
    "        # break\n",
    "        #print(response.includes['tweets'])\n",
    "\n",
    "    #     print(len(response.includes))\n",
    "    #     for i in range(len(response.data)):\n",
    "    #         if response.data[i]['referenced_tweets']:\n",
    "    #             print(response.data[i]['referenced_tweets'][0]['type'])\n",
    "    #         else:\n",
    "    #             print(response.data[i])\n",
    "    #     break"
   ]
  },
  {
   "cell_type": "code",
   "execution_count": 210,
   "metadata": {},
   "outputs": [
    {
     "name": "stdout",
     "output_type": "stream",
     "text": [
      "dict_keys([193148445, 1252978644])\n"
     ]
    }
   ],
   "source": [
    "print(users_tweets.keys())"
   ]
  },
  {
   "cell_type": "code",
   "execution_count": 211,
   "metadata": {},
   "outputs": [
    {
     "name": "stdout",
     "output_type": "stream",
     "text": [
      "193148445\n",
      "['Gobierno Biden anuncia visita a Colombia para reunión con presidente Gustavo Petro https://t.co/VN0lPwFjkR', 'Se asustan por el \"No nos reten\" pero se hicieron los maricas con el \"Se callan o los callamos\"...', 'Ecopetrol debe tener un guardado ni el hijueputa.', 'La gran diferencia de la reforma tributaria del gobierno de @petrogustavo  es que no generará  protestas masivas, porque todos sabemos que es por el bien del país y no para que se beneficien unos cuantos a costa del sacrificio de otros!', 'El euro cayó al nivel más bajo de los últimos 20 años y se convirtió en 1 dólar.\\n\\n¿Alguien sabe por qué no han dicho en Alemania que es culpa de Gustavo Petro?', 'ALGUIEN SABE Q HACE LA MINISTRA CORCHO EN VENEZUELA?', 'Saben? A veces me pongo en los zapatos de Gustavo Petro y hasta me compadezco de él. El mierdero de país que le van a entregar y lo que va a tener que hacer arreglarlo; eso no se lo deseo ni a mi peor enemigo. Pero si hay alguien que puede lograrlo, es justamente él.', 'Petro ni se ha posesionado y ya el gobierno de EEUU envía delegación para hablar con él. Con Duque no quisieron reunirse ni rogándoles.\\n\\nOtro punto para Petro.', 'Desde muchas cuentas y muchos personajes anuncian el riguroso control que le harán a Gustavo Petro, ahhh ahora si harán control? Porque Iván duque vendió El Oro y qué hizo la plata? Nadie sabe, se endeudó y qué hizo la plata? Nadie sabe, se perdió la platica de la Paz y ????', 'Perdón pero son unos estúpidos. ¿No tienen un poquito de cerebro para evitar usar a los niños para estas situaciones?. Los exponen innecesariamente y ellos tampoco entienden el alcance de “sus bromas”. Rechazo contundente. https://t.co/9zW72i1B07', 'Srs. @FiscaliaCol por favor iniciar la investigación del caso ante la amenaza de muerte proferida desde la cuenta aquí adjunta contra el padre Vicente de Roux. https://t.co/oCrkIqZNuT', '@Sandra_pa_ @mariaduran041 @Lauraxfavorr Entonces no opine.\\nInservible!', '@Charlie4Gomez @alex_leyton5 @MONYRODRIGUEZOF Valiente forma de irse por las ramas, los petristas siempre son así.', '@SANDRAG06438624 @LauraMMoficial Respuestas que hacen amarnos... 😁😁😁 https://t.co/Dkr3lexnwi', 'El ladrón de @IvanDuque quería insinuarle a @petrogustavo que el dólar estaba caro por su culpa. Le pidió un mensaje para que calmara los mercados y el que se lo envío fue Biden que vendrá a Colombia a reunirse con Petro. 🤣🤣🤣', 'Periodistas Valeria Santos, Sebastian Nohra (robo de 500mil millones); Paola Herrera (robo de 70mil millones); G.Guillén, J.Martinez y D.Mendoza (Ñeñepolítica); descubren más torcidos que Fiscalía, Contraloría y Procuraduría que nos cuestan 9 billones y tienen 32 mil funcionarios', 'Elbgobierno de Petro tiene el derecho de votar ppr una mueva junta directiva de Ecopetrol para los próximos 4 años en la próxima asamblea de esa empresa. El intento de imponerle una junta nombrada por el gobierno saliente no tiene legitimidad.', '@Charlie4Gomez @alex_leyton5 @MONYRODRIGUEZOF Quisiera saber el porque cree que sj \"Argumentos\" es mejor, cuando realmente no dió ninguno.', '@LauraMMoficial Si compramos un plan de 40 mil y el operador nos factura 42 mil, los pagamos sin ni siquiera preguntar...un impuesto del 4% que equivaldría a 1600 pesos aproximadamente puede ayudar a mejorar algún sector, creo que valdría la pena..sin corrupción eso sí!!', '@Charlie4Gomez @MONYRODRIGUEZOF Ese es su mejor argumento?', '@MONYRODRIGUEZOF No señora así no es, el estado no tiene que decirme lo que debo tomar o no, la persona decide si se quiere morir de díabetes o no, eso es decisión de cada uno, no una imposición del estado.', 'Prefirió bloquearme que mostrarnos su tesis. Favor Rt https://t.co/PvkPs0mGUH', '¿Quién es el peor presidente de América Latina?', 'Oigan un taxista diciéndome que mirara lo mal presidente que había sido @IvanDuque, si Duque les parece mal presidente, vere que dicen de petro en 4 años.\\nUn presidente con pandemia y con una oposición violenta, entregó los mejores indicadores económicos en décadas. Mis respetos', 'A quienes hoy están comprando dólares en Colombia, con el mayor respeto tengo que anunciar, que cuando los ponga de nuevo a la venta, valdrán menos en ese momento. ¡ojo! No pierdan sus dineros. https://t.co/toPXCbNuJW', 'Hasta muy pronto, Colombia. Me van a hacer mucha falta. Me voy con Flor a pasar unas semanas con mi familia. No veo la hora de regresar a construir el partido @verdeoxigenocol. A sus miembros, nos vemos el próximo sábado en la asamblea por zoom. https://t.co/348e5TVSnf', 'Disculpe azafata ¿Este avión tiene maquinaria?', 'No descansaré -desde la posición que sea- hasta destapar y reabrir los grandes escándalos de corrupción de este país y llevar a sus autores a la cárcel.', 'La constancia para estimular el odio y el descaro para la mentira que muestra el delfín, Enrique Gómez, parece la nueva versión de la infame “acción intrépida” y “atentado personal” que impulsó su abuelo, Laureano Gómez, en pleno Congreso para validar La Violencia.', 'La dejaron fue por el piso a la dizque \"periodista\" @darcyquinnr 🤣🤣🤣\\nQue vergüenza!!! https://t.co/GJfUuAzfrV', 'Se vienen años difíciles para Colombia.', 'Para la nueva ministra de Agricultura de Petro la única tierra productiva es la que tiene coca sembrada', 'Mientras tanto en Kirguistán... https://t.co/zu2iJuuifo', 'Ya que se dieron cuenta que @petrogustavo NO tiene casa en Italia; pueden ahora sí escandalizarse por los $500 mil millones que se robaron del Acuerdo de Paz y los $70 mil millones que se robaron del internet de los niños.', 'Vamos avanzando en el cambio : no Procuraduria,no pilotos fracking , no esmad, no Derecho  fundamental de la propiedad, no día sin iva .', 'Andrea Nieto habla mal de todos los políticos de izquierda, inventa chismes, calumnia y se burla de ellos, pero después está llorando cuando le contestan. ¡Pendeja! Eso es como si yo me emputara porque me hijueputean. ¡Aguante presión, señora! ¡Qué descaro tan hijueputa pues!', '@Mamertakd No le crean, yo le seguí, le esperé una semana y no me siguió, obvio le di su unfollow, solo con ver los que ella sigue y el número de seguidores que tiene de da uno cuenta que no tiene reciprocidad.', 'Levante la mano el progresista que me falte x seguir...', '#TengoDerechoA pensar distinto a usted y no ser su enemiga.', 'Y eso que aún no hemos empezado a “vivir sabroso”. Qué dirán @petrogustavo @FranciaMarquezM https://t.co/rZ3PFzdgKe', 'Si tuvieses el poder de salvar a uno, a quién no meterías a la cárcel? https://t.co/tlGXDHqHqK', 'El presidente es Duque, la moneda se devaluó estos 4 años por él, no por PETRO que ni siquiera se ha posesionado.', 'Como parte del empalme de Educación puedo decir que el reto de hacer de esta el eje de la transformación del país merece más recursos y organización. Agradezco a @petrogustavo su invitación para aportar desde un sector que valoro y al que le he dedicado gran parte de mi vida. https://t.co/OndzwC6lny', 'Ya al parecer vamos en 750.000 millones de razones por las que los corruptos deberán indemnizar a los colombianos.', 'Este Sr. sería un gran ministro de justicia. https://t.co/kDt0e6HXHD', 'Nunca en la historia, los mov. alternativos tuvimos mayorías para elegir un contralor honesto, que persiga corruptos sin deberles nada. Hoy tenemos esa oportunidad. Pido a mis compañeros del Congreso que me ayuden a tumbar la convocatoria amañada.\\nCuidemos el Pacto Histórico.', 'Que belleza!!! Estas en lo cierto primer cuñado de la nación!!! Asi es que se habla!!! https://t.co/lU4a9kfY5E', '@ELTIEMPO @LafaurieCabal Aquí hay una anfibología: Con esa redacción, es posible interpretar el titular de dos maneras:\\n\\n-El partido conservador apoyó a Petro y por eso Lafourie renuncia a esa colectividad\\n-Lafourie apoyó a Petro y debido a eso renuncia al partido conservador.\\nhttps://t.co/iJyAw2Dpug', '¿Si las EPS son tan buenas xq las liquidan cada rato? 😘', '@Charlie4Gomez @LPogachar @LauraMedinaRuiz Acá perdemos todos con con gobierno que destruya la salud y las instituciones. Zurdo asqueroso.', '@LPogachar @LauraMedinaRuiz Entonces vamos a destruir el sistema de salud por odio a duque y a los chismes de sarmiento angulo? Guevon, los que menos van a sufrir esa hecatombe de salud pública son ellos, reaccionen, maldita chusma zurda.', '@LPogachar @LauraMedinaRuiz 🤦🏻🤦🏻🤦🏻🤦🏻el mejor plan de vacunación, en cobertura y tiempo, fué el de Duque. Contra eso no puede peliar. La reactivación económica y los días sin IVA un éxito a pesar de los paros. Los Zurdos destruirán el sistema de salud.', 'Qué desastre Carolina Corcho, una mujer que llenó de mentiras el debate en medio de la pandemia. \\n\\nQué irresponsabilidad tan grande con la salud de los colombianos.', 'Hoy me reuní con @jflafaurie. Siguiendo las instrucciones de @petrogustavo de invitar al #DiálogoNacional a todos los sectores.\\nAceptó sumarse y reconoció la importancia de una reforma agraria.\\nSeguimos sumando para construir una Colombia con un campo productivo y competitivo. https://t.co/6yghfx8xxE', 'El 20 de julio presentaré el plan para hacer una oposición inteligente al gobierno de Petro en defensa de los colombianos.\\n\\nSi los políticos no le van hacer oposición, lo ciudadanos sí.', 'Pregunta ¿Qué organismo debería defendernos del robo que nos va a hacer nuestro presidente con lo que le va a regalar a sus amigos (cómplices) pagado de por vida de nuestro trabajo y con nuestros impuestos? ¿Sabe de qué le hablamos, viejo? @IvanDuque @yohirakerman', 'Yo si les propongo que iniciemos un movimiento ciudadano que cambie la Constitución Nacional y nos permita que @ivanduque sea investigado, condenado y llevado a prisión por corrupto... el constituyente primario debe decidir esta importante medida.\\n\\nRT, solo si estás de acuerdo...', 'En serio el Kks está formando un gabinete? o un centro geriátrico.', 'Con mucho orgullo recibo del ministro @Diego_Molano y la Cúpula Militar, la medalla Ministerio de Defensa Nacional que exalta nuestro apoyo y gestión por la Fuerza Pública en todos estos años. Ha sido un honor servirles, así como ustedes sirven a la Patria.🏅 https://t.co/E77DNcM6D1', 'El daño que ha hecho @IvanDuque a COLOMBIA 🇨🇴, de dejar endeudado al país en más de US$175.000 millones de dólares no lo han dimensionado los COLOMBIANOS', 'Uribe se ganó la confianza de todos los Colombianos en su primer gobierno y después se hizo reelegir con trampas, y con su discurso anticomunismo mantuvo hegemonía dos periodos más, en los cuales se robaron el país y montó payasos en el gobierno.', '@andresmelocou Quien fue Duque?', 'Viendo las últimas jugaditas del títere Iván Duque, no que cabe la menor duda que es un verdadero hpta.', 'Qué preferirías..\\n\\nDuque en prisión o sin pensión vitalicia?', 'Que caiga todo el peso de la ley a quienes robaron los 500.000 millones de la paz', 'Uno se levanta, se echa agua en la cara, se toma un café y después sí se pregunta, ¿cómo hijueputas fue que se robaron 500 mil millones de pesos del proceso de paz y la gonorrea que tenemos de presidente no es capaz de decir nada? ¡Nos gobierna un malparido! ¡Vida tan hijueputa!', 'Esperamos el gobierno de izquierda le conecte agua a toda la guajira empezemos por un servicio básico', 'Iván Duque llenó de elogios a Zapateiro y le recalcó \"usted no participó en política\" https://t.co/WG636Bzrb8', '@rcnradio Pues la verdad y con todo lo que adoro a Uribe la oposición debería ser abanderada por este par de Señores, Caballeros, Patriotas, una democracia requiere oposición sería, eso de razonable es como tibio, y eso si decente, no como le tocó a mi PRE @IvanDuque', 'Lo único que sirve en la vía Bogotá- Girardot son los peajes.', 'Montaje cómico con el masajista de la semoviente. https://t.co/BReu4TLYZp', '@IvanDuque pasará a la historia como el hombre que despreció la paz, ignoró a las víctimas, pisoteó la esperanza de miles de colombianos. Un ser ínfimo, intrascendente, arrogante, desconectado. El peor presidente en la historia del país.', 'Muchos medios tradicionales y periodistas son cómplices también del conflicto, por su vendido silencio. \\nJamás usaron sus micrófonos para enseñarle al país la reconciliación.', 'Esto no saldrá en semana pero puede volverse tendencia en twitter hagámoslo viral ❤️❤️💕 RT . https://t.co/FNW3UsuhFL', 'Si las personas de izquierda se formaran y se informaran, dejarían de ser de izquierda.', 'A través de un sofisticado mecanismo de corrupción, entre funcionarios del DNP, la Contraloría y algunos Congresistas, se habrían apropiado de hasta $500.000 millones en coimas de las regalías que por ley están destinadas a la implementación del Acuerdo de Paz. Va hilo', 'La gran mayoría que votamos por @petrogustavo NO queremos a Amaya en ningún ministerio.', 'Carlos Amaya no va ser ningún Ministro de Agricultura en el Gob de @petrogustavo. Es solo un rumor politiquero y estratégico, alimentado desde los pasillos de la Gobernación de Boyacá para concentrar las miradas en el \"emperador\" Amaya. Solo un chisme.', 'Petro se reunió con Uribe y Hernández, pidió alistar lotes para construir colegios y universidades, asistió al informe de la comisión de la verdad y está resolviendo el caso del acueducto de Quibdó. No se ha posesionado, pero su gobierno es más dinámico que el de Duque en 4 años.', 'Petro ya tiene mayoría en el Congreso. Sin conocer sus proyectos ya tiene como aprobarlos.\\n\\nDarle un “cheque en blanco” es un error.\\n\\nMi responsabilidad con los colombianos es aprobar lo que los beneficie y oponerme a lo que les haga daño.\\n\\nSeré incomprable. Cuentan conmigo.', 'Lo que Petro está haciendo se llama DEMOCRACIA y es lo que debieron hacer todos los presidentes anteriores… Pero aquí nos acostumbramos que a la oposición toca perfilarla, perseguirla, condenarla y asesinarla. ¡La derecha siempre fue dictatorial y asesina! ¡Grande Petro!', 'En Blu Radio -que hijos de puta- están atacando brutalmente la Comisión de la Verdad y defendiendo a Duque y Uribe. \\n\\nEn serio, no paran, todos unidos contra estos negociantes de la verdad.\\n\\nRt al tuit, vamos a exponerlos a la opinión pública.', 'Petro nunca fue la opción menos mala. Siempre fue la mejor opción y el más preparado para ocupar el cargo.', 'A @IvanDuque  el 8 de agosto no se le debe dejar salir del país debe responder por el asesinato de los jóvenes en el paro.fin del comunicado.', 'Vea pues, uribistas indignados porque la operación de la @ComisionVerdadC costó 400 mil millones en 3 años, pero callados cuando los funcionarios de su gobierno se roban en coimas 500 mil millones que estaban destinados a comunidades pobres afectadas por la violencia...', 'Uribe chuzó a Petro para escucharlo. Petro invitó a Uribe cara a cara para escucharlo.', 'Felicitaciones para el doctor Juan Camilo Restrepo nuevo General Encargado. Su antecesor el General Zapateiro le desea muchos éxitos. https://t.co/VhZw0OO4dK', 'De \"viejito lindo\" a \"viejo hijueputa\" en 2 semanas. 🤣🤣🤣 https://t.co/fwvveYfBHi', 'Ya poco o nada me sorprende…', '¿Entonces José Manuel Gnecco Valencia, miembro del ‘clan Gnecco’ y cuñado de Vicky Dávila, asesinó a María Mercedes \"Mérsa\" en octubre 6 de 2021 y ayer fue capturado por el CTI pero no hay noticia en Revista Semana ni indignación de sus periodistas por este feminicidio? Vergüenza', 'El presidente Ivan Duque no va a la entrega del informe de la Comisión de La Verdad.  Asi fue todo su gobierno. De espaldas a las víctimas, al acuerdo y a la verdad.', 'Este es mi análisis de los retos que enfrenta la economía bajo la Administración Petro en materia social, económica y fiscal. https://t.co/zPeiKVUPK2', 'Señor presidente @petrogustavo este es el proyecto SIDEN un contrato antiaéreo que se está realizando con una empresa israelí por un valor de 800 mil millones, donde se están asegurando coimas y se está dejando amarrado el contrato ya que este armamento será entregado en 5 años. https://t.co/1kTC5JJ3NJ', 'RT Urge difundir https://t.co/YvzApNXOSw', 'Atención pueblo: sabemos qué la reforma de @petrogustavo \\nEs para todos los ricos del gobierno Uribe y Duque qué nunca pagaron  impuestos ok\\nSi es así que la suban a 100 Billones para qué sepan qué es pagar impuestos carajo.', '@FernanMartinez De acuerdo... Son unos HIJUEPUTAS... https://t.co/oNmzrFWshK', 'Presidente @petrogustavo los campesinos con menos de 10 cabezas de ganado, queremos saber que pasa con ese tal Lafaurie despojador de tierras, cuando sale de Fedegan?\\n\\nEl CAMPO ganadero necesita urgente otro líder una persona legal.\\nRetwitt para lograr llegar al @PactoCol con voz', 'Todavía ando vendiendo rifas para llevar la bandera del país a lo más alto de las aguas abiertas 🇨🇴💙 \\n\\nMe faltan más de 30. Si quieres apoyarme envíame un mensaje.  \\n\\nRogarle a la gente para un RT o un compartir en la historia de IG es muy hp, estoy agotado física y mentalmente', '@MirandaBogota @petrogustavo ME ENCANTA ESA NOTICIA LOS VERDES SE SUBIERON A LA PETRONETA Y VAMOS CON TODA 💪💪💪💪👍👏\\U0001faf6\\U0001faf6\\U0001faf6\\U0001faf6', 'Mi partido se declara OFICIALMENTE como bancada del gobierno de @petrogustavo 🙏🏻❤️\\n\\nhttps://t.co/tNEvEnX3C2']\n"
     ]
    }
   ],
   "source": [
    "print(list(users_tweets.keys())[0])\n",
    "print(users_tweets[list(users_tweets.keys())[0]])"
   ]
  },
  {
   "cell_type": "code",
   "execution_count": 204,
   "metadata": {},
   "outputs": [
    {
     "name": "stdout",
     "output_type": "stream",
     "text": [
      "Charlie4Gomez\n"
     ]
    }
   ],
   "source": [
    "print(diccionario_ids_usuarios[193148445])"
   ]
  },
  {
   "cell_type": "code",
   "execution_count": 158,
   "metadata": {},
   "outputs": [
    {
     "name": "stdout",
     "output_type": "stream",
     "text": [
      "200\n"
     ]
    }
   ],
   "source": [
    "print(len(users_tweets[list(users_tweets.keys())[0]]))"
   ]
  },
  {
   "cell_type": "code",
   "execution_count": null,
   "metadata": {},
   "outputs": [],
   "source": []
  },
  {
   "cell_type": "code",
   "execution_count": 213,
   "metadata": {},
   "outputs": [],
   "source": [
    "with open(\"tweets.json\", \"w\") as fp:\n",
    "    json.dump(users_tweets,fp)"
   ]
  },
  {
   "cell_type": "code",
   "execution_count": 214,
   "metadata": {},
   "outputs": [],
   "source": [
    "with open(\"users.json\", \"w\") as fp:\n",
    "    json.dump(diccionario_ids_usuarios,fp)"
   ]
  },
  {
   "cell_type": "code",
   "execution_count": null,
   "metadata": {},
   "outputs": [],
   "source": []
  },
  {
   "cell_type": "code",
   "execution_count": null,
   "metadata": {},
   "outputs": [],
   "source": [
    "\n",
    "\n",
    "# #print(tweets)\n",
    "\n",
    "# # Each Tweet object has default ID and text fields\n",
    "# for tweet in tweets:\n",
    "#     print(tweet.id)\n",
    "#     print(tweet)\n",
    "#     print(tweet.text)"
   ]
  }
 ],
 "metadata": {
  "kernelspec": {
   "display_name": "Python 3.10.5 ('.venv': venv)",
   "language": "python",
   "name": "python3"
  },
  "language_info": {
   "codemirror_mode": {
    "name": "ipython",
    "version": 3
   },
   "file_extension": ".py",
   "mimetype": "text/x-python",
   "name": "python",
   "nbconvert_exporter": "python",
   "pygments_lexer": "ipython3",
   "version": "3.10.5"
  },
  "orig_nbformat": 4,
  "vscode": {
   "interpreter": {
    "hash": "4c9a5e9c047fc733d9313123a6e4ccecb6e7c397a0c0cfba3ec0c51c8c8008e1"
   }
  }
 },
 "nbformat": 4,
 "nbformat_minor": 2
}
