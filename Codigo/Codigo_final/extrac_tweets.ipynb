{
 "cells": [
  {
   "cell_type": "code",
   "execution_count": 1,
   "metadata": {},
   "outputs": [],
   "source": [
    "import os\n",
    "import tweepy\n",
    "from dotenv import load_dotenv"
   ]
  },
  {
   "cell_type": "code",
   "execution_count": 2,
   "metadata": {},
   "outputs": [],
   "source": [
    "load_dotenv()\n",
    "\n",
    "consumer_key = os.environ[\"API_KEY\"]\n",
    "consumer_secret = os.environ[\"API_KEY_SECRET\"]\n",
    "access_token = os.environ[\"ACCESS_TOKEN\"]\n",
    "access_token_secret = os.environ[\"ACCESS_TOKEN_SECRET\"]\n",
    "bearer_token = os.environ[\"BEARER_TOKEN\"]\n",
    "\n",
    "\n",
    "client = tweepy.Client(\n",
    "  bearer_token=bearer_token,\n",
    "  consumer_key=consumer_key,\n",
    "  consumer_secret=consumer_secret,\n",
    "  access_token=access_token,\n",
    "  access_token_secret=access_token_secret,\n",
    "  wait_on_rate_limit=True\n",
    ")"
   ]
  },
  {
   "cell_type": "code",
   "execution_count": 23,
   "metadata": {},
   "outputs": [],
   "source": [
    "def extraer_cuentas_usuarios(lista_cuentas, lista_tweets, response):\n",
    "    for i in range(len(response)):\n",
    "        #lista_cuentas.append(response.includes['users'][i].username)\n",
    "        lista_cuentas.append(response.includes['users'][i])\n",
    "        lista_tweets.append(response.data[i].text)\n",
    "\n",
    "    print(len(lista_cuentas))"
   ]
  },
  {
   "cell_type": "code",
   "execution_count": 24,
   "metadata": {},
   "outputs": [
    {
     "name": "stdout",
     "output_type": "stream",
     "text": [
      "4\n"
     ]
    }
   ],
   "source": [
    "# Search Recent Tweets\n",
    "# This endpoint/method returns Tweets from the last seven days\n",
    "query = 'depresión yo tengo'\n",
    "#query = 'Petro'\n",
    "# The method returns a Response object, a named tuple with data, includes,\n",
    "# errors, and meta fields\n",
    "\n",
    "cuentas_usuarios = []\n",
    "tweets = []\n",
    "for response in tweepy.Paginator(client.search_recent_tweets,\n",
    "                                query,\n",
    "                                tweet_fields=['id', 'author_id', 'text'],\n",
    "                                user_fields=['id', 'username', 'location'],\n",
    "                                expansions='author_id',\n",
    "                                max_results=100, limit=1):#.flatten(limit=100):\n",
    "    extraer_cuentas_usuarios(cuentas_usuarios, tweets, response)\n",
    "\n"
   ]
  },
  {
   "cell_type": "code",
   "execution_count": 25,
   "metadata": {},
   "outputs": [
    {
     "name": "stdout",
     "output_type": "stream",
     "text": [
      "[<User id=87266642 name=Miguel A López-López username=MiguelAngelopez>, <User id=2804417358 name=𝙂𝙤́𝙢𝙚𝙯 username=pepedesgracias>, <User id=2179618707 name=fiorella.estefania username=fiorella0017>, <User id=931309107377852417 name=Ernesto quicano ramirez username=QuicanoRamirez>]\n"
     ]
    }
   ],
   "source": [
    "print(cuentas_usuarios)"
   ]
  },
  {
   "cell_type": "code",
   "execution_count": 26,
   "metadata": {},
   "outputs": [
    {
     "name": "stdout",
     "output_type": "stream",
     "text": [
      "['Me emputa muchísimo, porque aunque yo no tenga depresión, sí tengo varias personas cercanas a mí que la tienen y me consta la lucha diaria que es para ser “funcional” en esta sociedad, para que igual cuando lo sean les cierren la puerta porque asumen que no van a poder.', 'El trabajo más pesado lo tengo yo, luchar contra la depresión y tener todos los días turno en una clínica de 7am a 9pm \\U0001fae1', '-La Aitana: Vos sos la más adulta del grupo, sos monotributista y tenés trabajo estable.\\n-Yo: Pero soy alcohólica y tengo depresión.\\n-La Aitana: Bueno, ahí si tenemos un problema.', '@juancar27172435 @ElRepublicano09 Para Julián Román si yo tengo 10 vacas soy un Ben catway (bonanza),como yo creer qu el es harley Davison(el sobrevivió a la depresión económica de 1900)']\n"
     ]
    }
   ],
   "source": [
    "print(tweets)"
   ]
  },
  {
   "cell_type": "code",
   "execution_count": 27,
   "metadata": {},
   "outputs": [
    {
     "name": "stdout",
     "output_type": "stream",
     "text": [
      "He / Him - Bogotá, Colombia\n",
      "None\n",
      "Tucumán - Argentina\n",
      "None\n"
     ]
    }
   ],
   "source": [
    "for usuario in cuentas_usuarios:\n",
    "    print(usuario.location)"
   ]
  },
  {
   "cell_type": "code",
   "execution_count": 28,
   "metadata": {},
   "outputs": [],
   "source": [
    "usuarios = []\n",
    "for usuario in cuentas_usuarios:\n",
    "    if (usuario.location is not None):\n",
    "        if ('Medellin' in usuario.location) or ('Medellín' in usuario.location) or ('medellin' in usuario.location) or ('medellín' in usuario.location):\n",
    "            usuarios.append(usuario.username)"
   ]
  },
  {
   "cell_type": "code",
   "execution_count": 29,
   "metadata": {},
   "outputs": [
    {
     "name": "stdout",
     "output_type": "stream",
     "text": [
      "[]\n"
     ]
    }
   ],
   "source": [
    "print(usuarios)"
   ]
  },
  {
   "cell_type": "code",
   "execution_count": 31,
   "metadata": {},
   "outputs": [],
   "source": [
    "usuarios_globales = set(usuarios)"
   ]
  },
  {
   "cell_type": "code",
   "execution_count": 32,
   "metadata": {},
   "outputs": [
    {
     "name": "stdout",
     "output_type": "stream",
     "text": [
      "set()\n"
     ]
    }
   ],
   "source": [
    "print(usuarios_globales)"
   ]
  },
  {
   "cell_type": "code",
   "execution_count": null,
   "metadata": {},
   "outputs": [],
   "source": []
  },
  {
   "cell_type": "code",
   "execution_count": null,
   "metadata": {},
   "outputs": [],
   "source": []
  },
  {
   "cell_type": "code",
   "execution_count": null,
   "metadata": {},
   "outputs": [],
   "source": []
  },
  {
   "cell_type": "code",
   "execution_count": null,
   "metadata": {},
   "outputs": [],
   "source": [
    "\n",
    "\n",
    "# #print(tweets)\n",
    "\n",
    "# # Each Tweet object has default ID and text fields\n",
    "# for tweet in tweets:\n",
    "#     print(tweet.id)\n",
    "#     print(tweet)\n",
    "#     print(tweet.text)"
   ]
  }
 ],
 "metadata": {
  "kernelspec": {
   "display_name": "Python 3.10.5 ('.venv': venv)",
   "language": "python",
   "name": "python3"
  },
  "language_info": {
   "codemirror_mode": {
    "name": "ipython",
    "version": 3
   },
   "file_extension": ".py",
   "mimetype": "text/x-python",
   "name": "python",
   "nbconvert_exporter": "python",
   "pygments_lexer": "ipython3",
   "version": "3.10.5"
  },
  "orig_nbformat": 4,
  "vscode": {
   "interpreter": {
    "hash": "4c9a5e9c047fc733d9313123a6e4ccecb6e7c397a0c0cfba3ec0c51c8c8008e1"
   }
  }
 },
 "nbformat": 4,
 "nbformat_minor": 2
}
