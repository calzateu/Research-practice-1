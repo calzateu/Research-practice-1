{
 "cells": [
  {
   "cell_type": "code",
   "execution_count": 3,
   "metadata": {},
   "outputs": [],
   "source": [
    "import os\n",
    "import tweepy\n",
    "from dotenv import load_dotenv"
   ]
  },
  {
   "cell_type": "code",
   "execution_count": 4,
   "metadata": {},
   "outputs": [],
   "source": [
    "load_dotenv()\n",
    "\n",
    "consumer_key = os.environ[\"API_KEY\"]\n",
    "consumer_secret = os.environ[\"API_KEY_SECRET\"]\n",
    "access_token = os.environ[\"ACCESS_TOKEN\"]\n",
    "access_token_secret = os.environ[\"ACCESS_TOKEN_SECRET\"]\n",
    "bearer_token = os.environ[\"BEARER_TOKEN\"]\n",
    "\n",
    "\n",
    "client = tweepy.Client(\n",
    "  bearer_token=bearer_token,\n",
    "  consumer_key=consumer_key,\n",
    "  consumer_secret=consumer_secret,\n",
    "  access_token=access_token,\n",
    "  access_token_secret=access_token_secret,\n",
    "  wait_on_rate_limit=True\n",
    ")"
   ]
  },
  {
   "cell_type": "code",
   "execution_count": 96,
   "metadata": {},
   "outputs": [],
   "source": [
    "def extraer_cuentas_usuarios(lista_cuentas, lista_tweets, response):\n",
    "    #for i in range(len(response.data)):\n",
    "    for i in range(len(response.includes['users'])):\n",
    "        #lista_cuentas.append(response.includes['users'][i].username)\n",
    "        lista_cuentas.append(response.includes['users'][i])\n",
    "        lista_tweets.append(response.data[i].text)\n",
    "\n",
    "    print(len(lista_cuentas))"
   ]
  },
  {
   "cell_type": "code",
   "execution_count": 97,
   "metadata": {},
   "outputs": [
    {
     "name": "stdout",
     "output_type": "stream",
     "text": [
      "82\n"
     ]
    }
   ],
   "source": [
    "# Search Recent Tweets\n",
    "# This endpoint/method returns Tweets from the last seven days\n",
    "\n",
    "#query = 'depresión yo tengo'\n",
    "#query = 'Petro'\n",
    "#query = 'Saben? A veces me pongo en los zapatos de Gustavo Petro y hasta me compadezco de él'\n",
    "query = 'eafit'\n",
    "\n",
    "# The method returns a Response object, a named tuple with data, includes,\n",
    "# errors, and meta fields\n",
    "\n",
    "cuentas_usuarios = []\n",
    "tweets = []\n",
    "for response in tweepy.Paginator(client.search_recent_tweets,\n",
    "                                query,\n",
    "                                tweet_fields=['id', 'author_id', 'text'],\n",
    "                                user_fields=['id', 'username', 'location'],\n",
    "                                expansions='author_id',\n",
    "                                max_results=100, limit=1):#.flatten(limit=100):\n",
    "    extraer_cuentas_usuarios(cuentas_usuarios, tweets, response)\n",
    "\n"
   ]
  },
  {
   "cell_type": "code",
   "execution_count": 98,
   "metadata": {},
   "outputs": [
    {
     "name": "stdout",
     "output_type": "stream",
     "text": [
      "82\n"
     ]
    }
   ],
   "source": [
    "print(len(cuentas_usuarios))"
   ]
  },
  {
   "cell_type": "code",
   "execution_count": null,
   "metadata": {},
   "outputs": [],
   "source": [
    "print(tweets)"
   ]
  },
  {
   "cell_type": "code",
   "execution_count": null,
   "metadata": {},
   "outputs": [],
   "source": [
    "for usuario in cuentas_usuarios:\n",
    "    print(usuario.location)"
   ]
  },
  {
   "cell_type": "code",
   "execution_count": 101,
   "metadata": {},
   "outputs": [],
   "source": [
    "usuarios = []\n",
    "ids_usuarios = []\n",
    "for usuario in cuentas_usuarios:\n",
    "    if (usuario.location is not None):\n",
    "        if ('Medellin' in usuario.location) or ('Medellín' in usuario.location) or ('medellin' in usuario.location) or ('medellín' in usuario.location):\n",
    "            usuarios.append(usuario.username)\n",
    "            ids_usuarios.append(usuario.id)"
   ]
  },
  {
   "cell_type": "code",
   "execution_count": 102,
   "metadata": {},
   "outputs": [
    {
     "name": "stdout",
     "output_type": "stream",
     "text": [
      "['santiagosilvaj', 'NaNo__11', 'EAFIT', 'jnicolasosorio', 'Vyral_News_', 'FEG_EAFIT', 'TheImpishTerror', 'vdavidayala', 'labrinth09', 'XLordValdomeroX', 'RepresEAFIT', 'sjrm59', 'mariosuarezsuar', 'sexcol2020', 'camilo2802']\n",
      "[147626104, 234089444, 41704249, 322308888, 1177799339764256768, 2385510302, 4379250803, 883789447652937728, 1423415860929118211, 805817971, 394312666, 881251408238051328, 190627315, 1093233540962111488, 2910380363]\n"
     ]
    }
   ],
   "source": [
    "print(usuarios)\n",
    "print(ids_usuarios)"
   ]
  },
  {
   "cell_type": "code",
   "execution_count": 103,
   "metadata": {},
   "outputs": [],
   "source": [
    "usuarios_globales = set(usuarios)"
   ]
  },
  {
   "cell_type": "code",
   "execution_count": 104,
   "metadata": {},
   "outputs": [
    {
     "name": "stdout",
     "output_type": "stream",
     "text": [
      "{'sexcol2020', 'jnicolasosorio', 'sjrm59', 'RepresEAFIT', 'NaNo__11', 'Vyral_News_', 'EAFIT', 'FEG_EAFIT', 'vdavidayala', 'camilo2802', 'XLordValdomeroX', 'mariosuarezsuar', 'TheImpishTerror', 'santiagosilvaj', 'labrinth09'}\n"
     ]
    }
   ],
   "source": [
    "print(usuarios_globales)"
   ]
  },
  {
   "cell_type": "code",
   "execution_count": 105,
   "metadata": {},
   "outputs": [],
   "source": [
    "def extraer_tweets_usuarios(id, diccionario, response):\n",
    "    #for i in range(len(response.data)):\n",
    "    lista_tweets = []\n",
    "    print(len(response.data))\n",
    "    for i in range(len(response.data)):\n",
    "        lista_tweets.append(response.data[i].text)\n",
    "\n",
    "    diccionario[id] = lista_tweets"
   ]
  },
  {
   "cell_type": "code",
   "execution_count": 106,
   "metadata": {},
   "outputs": [
    {
     "name": "stdout",
     "output_type": "stream",
     "text": [
      "100\n",
      "1\n",
      "retweeted\n",
      "retweeted\n",
      "replied_to\n",
      "retweeted\n",
      "retweeted\n",
      "retweeted\n",
      "retweeted\n",
      "replied_to\n",
      "replied_to\n",
      "replied_to\n",
      "replied_to\n",
      "replied_to\n",
      "replied_to\n",
      "La foto del telescopio Jame Webb que tanto hemos compartido por acá, aparte de preciosa y además de un avance científico extraordinario es un buen recordatorio de lo minúsculos que somos respecto al universo.\n",
      "Un recordatorio de la necesaria humildad cósmica. https://t.co/NlZKy8IpCS\n",
      "retweeted\n",
      "retweeted\n",
      "retweeted\n",
      "replied_to\n",
      "replied_to\n",
      "replied_to\n",
      "replied_to\n",
      "retweeted\n",
      "Las columnas más satisfactorias de escribir son las más ñoñas. La de hoy lo es. Pero prometo que es interesante. \n",
      "Sobre los estoicos y la misión que deberíamos compartir de ampliar nuestros círculos de preocupación.\n",
      "Gracias por leer.\n",
      "https://t.co/tekBwoB85h\n",
      "retweeted\n",
      "retweeted\n",
      "retweeted\n",
      "retweeted\n",
      "retweeted\n",
      "retweeted\n",
      "retweeted\n",
      "retweeted\n",
      "retweeted\n",
      "Artículo: Una propuesta de criterios de selección de instrumentos para intervenciones en cultura ciudadana, aproximación al problema ético. https://t.co/TSZNCH7GOh\n",
      "replied_to\n",
      "retweeted\n",
      "retweeted\n",
      "Artículo: Cultura prosocial en Segovia y Remedios: un estudio de atributos en contextos mineros. https://t.co/WmKvdIETom\n",
      "retweeted\n",
      "Libro: Promesas mutuas. Conversaciones sobre normas sociales y prosocialidad. https://t.co/bKJLPkbsRN\n",
      "retweeted\n",
      "“Eso es trabajar en el Estado. Echar mano de la humildad suficiente para jugar al rol asignado en el reconocimiento de la responsabilidad que se les puso en las manos, no en sus preferencias o inseguridades personales”.\n",
      "\n",
      "La dignidad del cargo.\n",
      "\n",
      "https://t.co/ntSrYRPDXp\n",
      "retweeted\n",
      "retweeted\n",
      "retweeted\n",
      "retweeted\n",
      "retweeted\n",
      "retweeted\n",
      "replied_to\n",
      "retweeted\n",
      "retweeted\n",
      "retweeted\n",
      "retweeted\n",
      "retweeted\n",
      "retweeted\n",
      "replied_to\n",
      "replied_to\n",
      "Creo que algunos políticos electos y funcionarios públicos confunden aquello de la “dignidad del cargo” con su propia presunción de importancia personal. Pero no, la dignidad del cargo está dada por la enorme responsabilidad de representar los intereses de los colombianos.\n",
      "Multiversos de la locura los que arma uno en la casa cuando tiene chiquillos. El cuento preferido de Lucía es una versión de El lobo y los tres cerditos en la que los cerditos se salvan de ser devorados por la oportuna intervención de Ana, Elza, la Mujer Maravilla y Batman.\n",
      "retweeted\n",
      "retweeted\n",
      "retweeted\n",
      "retweeted\n",
      "retweeted\n",
      "retweeted\n",
      "retweeted\n",
      "retweeted\n",
      "retweeted\n",
      "retweeted\n",
      "retweeted\n",
      "Creo que estos son un artículo y una publicación que hace relativamente poco no hubiéramos imaginado que saldrían en El Colombiano ¡Qué alegría! \n",
      "👏👏 para @JuanAlcarazS_ https://t.co/W6w1sadUWC\n",
      "La columna de hoy es una invitación sencilla, pero fundamental: recordar y reivindicar lo que nos une, por estos días en que recogemos las piezas rotas poselectorales.\n",
      "¡Gracias por leerla y compartir!\n",
      "https://t.co/UPaEdNHfvq\n",
      "retweeted\n",
      "retweeted\n",
      "Esto nos dijeron los colombianos y colombianas sobre la democracia en el país en las conversaciones de @hablemosco \n",
      "Para detalles, pueden leer el informe “Democracia en obra” aquí https://t.co/UNWQOp0yaN https://t.co/Nk1Ve6ZGGp\n",
      "retweeted\n",
      "retweeted\n",
      "retweeted\n",
      "retweeted\n",
      "retweeted\n",
      "retweeted\n",
      "retweeted\n",
      "replied_to\n",
      "replied_to\n",
      "replied_to\n",
      "replied_to\n",
      "replied_to\n",
      "Hay algo que puede resultar fundamental para los próximos meses. El presidente electo ha señalado la necesidad del diálogo, de reconstruir puentes entre ciudadanos luego de esta campaña. Hay mucho por hacer ahí, pero también mucho sobre lo qué construir.\n",
      "1/5\n",
      "retweeted\n",
      "retweeted\n",
      "Profunda admiración por los jurados que se hicieron amigos del alma de sus compañeros en las mesas en primera vuelta. Hay algunos llegando aquí como si fuera un reencuentro del colegio.\n",
      "quoted\n",
      "retweeted\n",
      "retweeted\n",
      "retweeted\n",
      "quoted\n",
      "retweeted\n",
      "retweeted\n",
      "retweeted\n",
      "retweeted\n",
      "retweeted\n"
     ]
    }
   ],
   "source": [
    "users_tweets = dict()\n",
    "for id_usuario in ids_usuarios:\n",
    "    for response in tweepy.Paginator(client.get_users_tweets,\n",
    "                                    id_usuario,\n",
    "                                    tweet_fields=['id', 'author_id', 'text'],\n",
    "                                    user_fields=['id', 'username', 'location'],\n",
    "                                    expansions='referenced_tweets.id',\n",
    "                                    #expansions='author_id',\n",
    "                                    max_results=100, limit=1):#.flatten(limit=100):\n",
    "        extraer_tweets_usuarios(id_usuario, users_tweets, response)\n",
    "        #print(response.includes['tweets'])\n",
    "\n",
    "        print(len(response.includes))\n",
    "        for i in range(len(response.data)):\n",
    "            if response.data[i]['referenced_tweets']:\n",
    "                print(response.data[i]['referenced_tweets'][0]['type'])\n",
    "            else:\n",
    "                print(response.data[i])\n",
    "        break\n",
    "    break"
   ]
  },
  {
   "cell_type": "code",
   "execution_count": null,
   "metadata": {},
   "outputs": [],
   "source": [
    "print(users_tweets[827918863220228097][12])"
   ]
  },
  {
   "cell_type": "code",
   "execution_count": null,
   "metadata": {},
   "outputs": [],
   "source": []
  },
  {
   "cell_type": "code",
   "execution_count": null,
   "metadata": {},
   "outputs": [],
   "source": [
    "\n",
    "\n",
    "# #print(tweets)\n",
    "\n",
    "# # Each Tweet object has default ID and text fields\n",
    "# for tweet in tweets:\n",
    "#     print(tweet.id)\n",
    "#     print(tweet)\n",
    "#     print(tweet.text)"
   ]
  }
 ],
 "metadata": {
  "kernelspec": {
   "display_name": "Python 3.10.5 ('.venv': venv)",
   "language": "python",
   "name": "python3"
  },
  "language_info": {
   "codemirror_mode": {
    "name": "ipython",
    "version": 3
   },
   "file_extension": ".py",
   "mimetype": "text/x-python",
   "name": "python",
   "nbconvert_exporter": "python",
   "pygments_lexer": "ipython3",
   "version": "3.10.5"
  },
  "orig_nbformat": 4,
  "vscode": {
   "interpreter": {
    "hash": "4c9a5e9c047fc733d9313123a6e4ccecb6e7c397a0c0cfba3ec0c51c8c8008e1"
   }
  }
 },
 "nbformat": 4,
 "nbformat_minor": 2
}
