{
 "cells": [
  {
   "cell_type": "code",
   "execution_count": null,
   "metadata": {},
   "outputs": [],
   "source": [
    "import os\n",
    "import tweepy\n",
    "from dotenv import load_dotenv\n",
    "\n",
    "import json"
   ]
  },
  {
   "cell_type": "code",
   "execution_count": null,
   "metadata": {},
   "outputs": [],
   "source": [
    "load_dotenv()\n",
    "\n",
    "consumer_key = os.environ[\"API_KEY\"]\n",
    "consumer_secret = os.environ[\"API_KEY_SECRET\"]\n",
    "access_token = os.environ[\"ACCESS_TOKEN\"]\n",
    "access_token_secret = os.environ[\"ACCESS_TOKEN_SECRET\"]\n",
    "bearer_token = os.environ[\"BEARER_TOKEN\"]\n",
    "\n",
    "\n",
    "client = tweepy.Client(\n",
    "  bearer_token=bearer_token,\n",
    "  consumer_key=consumer_key,\n",
    "  consumer_secret=consumer_secret,\n",
    "  access_token=access_token,\n",
    "  access_token_secret=access_token_secret,\n",
    "  wait_on_rate_limit=True\n",
    ")"
   ]
  },
  {
   "cell_type": "code",
   "execution_count": null,
   "metadata": {},
   "outputs": [],
   "source": [
    "def extraer_cuentas_usuarios(lista_cuentas, lista_tweets, response):\n",
    "    #for i in range(len(response.data)):\n",
    "    for i in range(len(response.includes['users'])):\n",
    "        #lista_cuentas.append(response.includes['users'][i].username)\n",
    "        lista_cuentas.append(response.includes['users'][i])\n",
    "        lista_tweets.append(response.data[i].text)\n",
    "\n",
    "    print(len(lista_cuentas))"
   ]
  },
  {
   "cell_type": "code",
   "execution_count": null,
   "metadata": {},
   "outputs": [],
   "source": [
    "# Search Recent Tweets\n",
    "# This endpoint/method returns Tweets from the last seven days\n",
    "\n",
    "query = 'depresión yo tengo'\n",
    "#query = 'Petro'\n",
    "#query = 'Saben? A veces me pongo en los zapatos de Gustavo Petro y hasta me compadezco de él'\n",
    "#query = 'eafit'\n",
    "\n",
    "# The method returns a Response object, a named tuple with data, includes,\n",
    "# errors, and meta fields\n",
    "\n",
    "cuentas_usuarios = []\n",
    "tweets = []\n",
    "for response in tweepy.Paginator(client.search_recent_tweets,\n",
    "                                query,\n",
    "                                tweet_fields=['id', 'author_id', 'text'],\n",
    "                                user_fields=['id', 'username', 'location'],\n",
    "                                expansions='author_id',\n",
    "                                max_results=100, limit=1):#.flatten(limit=100):\n",
    "    extraer_cuentas_usuarios(cuentas_usuarios, tweets, response)\n",
    "\n"
   ]
  },
  {
   "cell_type": "code",
   "execution_count": null,
   "metadata": {},
   "outputs": [],
   "source": [
    "print(len(cuentas_usuarios))"
   ]
  },
  {
   "cell_type": "code",
   "execution_count": null,
   "metadata": {},
   "outputs": [],
   "source": [
    "print(tweets)"
   ]
  },
  {
   "cell_type": "code",
   "execution_count": null,
   "metadata": {},
   "outputs": [],
   "source": [
    "for usuario in cuentas_usuarios:\n",
    "    print(usuario.location)"
   ]
  },
  {
   "cell_type": "code",
   "execution_count": null,
   "metadata": {},
   "outputs": [],
   "source": [
    "usuarios = []\n",
    "ids_usuarios = []\n",
    "for usuario in cuentas_usuarios:\n",
    "    if (usuario.location is not None):\n",
    "        #if ('Medellin' in usuario.location) or ('Medellín' in usuario.location) or ('medellin' in usuario.location) or ('medellín' in usuario.location):\n",
    "        if ('Colombia' in usuario.location) or ('colombia' in usuario.location):\n",
    "            usuarios.append(usuario.username)\n",
    "            ids_usuarios.append(usuario.id)"
   ]
  },
  {
   "cell_type": "code",
   "execution_count": null,
   "metadata": {},
   "outputs": [],
   "source": [
    "print(usuarios)\n",
    "print(ids_usuarios)"
   ]
  },
  {
   "cell_type": "code",
   "execution_count": null,
   "metadata": {},
   "outputs": [],
   "source": [
    "diccionario_ids_usuarios = dict(zip(ids_usuarios, usuarios))"
   ]
  },
  {
   "cell_type": "code",
   "execution_count": null,
   "metadata": {},
   "outputs": [],
   "source": [
    "def extraer_tweets_usuarios(id, diccionario, response):\n",
    "    if id in list(diccionario.keys()):\n",
    "        lista_tweets = diccionario[id]\n",
    "    else:\n",
    "        lista_tweets = []\n",
    "    cont = 0\n",
    "    for i in range(len(response.data)):\n",
    "        if response.data[i]['referenced_tweets']:\n",
    "            try:\n",
    "                lista_tweets.append(response.includes['tweets'][cont].text)\n",
    "                cont += 1\n",
    "            except:\n",
    "                lista_tweets.append(response.data[i].text)\n",
    "\n",
    "        else:\n",
    "            lista_tweets.append(response.data[i].text)\n",
    "\n",
    "    diccionario[id] = lista_tweets"
   ]
  },
  {
   "cell_type": "code",
   "execution_count": null,
   "metadata": {},
   "outputs": [],
   "source": [
    "users_tweets = dict()\n",
    "for id_usuario in ids_usuarios:\n",
    "    for response in tweepy.Paginator(client.get_users_tweets,\n",
    "                                    id_usuario,\n",
    "                                    tweet_fields=['id', 'author_id', 'text'],\n",
    "                                    user_fields=['id', 'username', 'location'],\n",
    "                                    expansions='referenced_tweets.id',\n",
    "                                    #expansions='author_id',\n",
    "                                    max_results=100, limit=1):#.flatten(limit=100):\n",
    "        extraer_tweets_usuarios(id_usuario, users_tweets, response)"
   ]
  },
  {
   "cell_type": "code",
   "execution_count": null,
   "metadata": {},
   "outputs": [],
   "source": [
    "print(users_tweets.keys())"
   ]
  },
  {
   "cell_type": "code",
   "execution_count": null,
   "metadata": {},
   "outputs": [],
   "source": [
    "print(list(users_tweets.keys())[0])\n",
    "print(users_tweets[list(users_tweets.keys())[0]])"
   ]
  },
  {
   "cell_type": "code",
   "execution_count": null,
   "metadata": {},
   "outputs": [],
   "source": [
    "print(len(users_tweets[list(users_tweets.keys())[0]]))"
   ]
  },
  {
   "cell_type": "code",
   "execution_count": null,
   "metadata": {},
   "outputs": [],
   "source": []
  },
  {
   "cell_type": "code",
   "execution_count": null,
   "metadata": {},
   "outputs": [],
   "source": [
    "with open(\"tweets.json\", \"w\") as fp:\n",
    "    json.dump(users_tweets,fp)"
   ]
  },
  {
   "cell_type": "code",
   "execution_count": null,
   "metadata": {},
   "outputs": [],
   "source": [
    "with open(\"users.json\", \"w\") as fp:\n",
    "    json.dump(diccionario_ids_usuarios,fp)"
   ]
  },
  {
   "cell_type": "code",
   "execution_count": null,
   "metadata": {},
   "outputs": [],
   "source": []
  },
  {
   "cell_type": "code",
   "execution_count": null,
   "metadata": {},
   "outputs": [],
   "source": []
  }
 ],
 "metadata": {
  "kernelspec": {
   "display_name": "Python 3.10.5 ('.venv': venv)",
   "language": "python",
   "name": "python3"
  },
  "language_info": {
   "codemirror_mode": {
    "name": "ipython",
    "version": 3
   },
   "file_extension": ".py",
   "mimetype": "text/x-python",
   "name": "python",
   "nbconvert_exporter": "python",
   "pygments_lexer": "ipython3",
   "version": "3.10.5"
  },
  "orig_nbformat": 4,
  "vscode": {
   "interpreter": {
    "hash": "4c9a5e9c047fc733d9313123a6e4ccecb6e7c397a0c0cfba3ec0c51c8c8008e1"
   }
  }
 },
 "nbformat": 4,
 "nbformat_minor": 2
}
