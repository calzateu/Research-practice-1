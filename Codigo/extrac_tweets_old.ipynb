{
 "cells": [
  {
   "cell_type": "code",
   "execution_count": 6,
   "metadata": {},
   "outputs": [],
   "source": [
    "import os\n",
    "import tweepy\n",
    "from dotenv import load_dotenv\n",
    "from queue import Queue"
   ]
  },
  {
   "cell_type": "code",
   "execution_count": 7,
   "metadata": {},
   "outputs": [],
   "source": [
    "load_dotenv()\n",
    "\n",
    "consumer_key = os.environ[\"API_KEY\"]\n",
    "consumer_secret = os.environ[\"API_KEY_SECRET\"]\n",
    "access_token = os.environ[\"ACCESS_TOKEN\"]\n",
    "access_token_secret = os.environ[\"ACCESS_TOKEN_SECRET\"]\n",
    "bearer_token = os.environ[\"BEARER_TOKEN\"]\n",
    "\n",
    "\n",
    "client = tweepy.Client(\n",
    "  bearer_token=bearer_token,\n",
    "  consumer_key=consumer_key,\n",
    "  consumer_secret=consumer_secret,\n",
    "  access_token=access_token,\n",
    "  access_token_secret=access_token_secret,\n",
    "  #return_type = requests.Response,\n",
    "  wait_on_rate_limit=True\n",
    ")"
   ]
  },
  {
   "cell_type": "code",
   "execution_count": null,
   "metadata": {},
   "outputs": [],
   "source": [
    "# Search Recent Tweets\n",
    "# This endpoint/method returns Tweets from the last seven days\n",
    "#query = 'depresión yo tengo'\n",
    "query = 'biblioteca eafit'\n",
    "# The method returns a Response object, a named tuple with data, includes,\n",
    "# errors, and meta fields\n",
    "response = client.search_recent_tweets(\n",
    "    query=query,\n",
    "    tweet_fields=['id', 'author_id', 'text'],\n",
    "    max_results=100\n",
    ")\n",
    "\n",
    "# In this case, the data field of the Response returned is a list of Tweet\n",
    "# objects\n",
    "print(response)\n",
    "tweets = response.data\n"
   ]
  },
  {
   "cell_type": "code",
   "execution_count": null,
   "metadata": {},
   "outputs": [],
   "source": [
    "# Each Tweet object has default ID and text fields\n",
    "#cola = Queue()\n",
    "cuentas_usuarios = []\n",
    "for tweet in tweets:\n",
    "    id_usuario= tweet.author_id\n",
    "    #cola.put(client.get_user(id=id_usuario))\n",
    "    cuentas_usuarios.append(\n",
    "        client.get_user(\n",
    "            id=id_usuario,\n",
    "            user_fields=['id', 'username', 'location'],\n",
    "        ).data\n",
    "    )\n",
    "\n",
    "print(len(cuentas_usuarios))"
   ]
  },
  {
   "cell_type": "code",
   "execution_count": 8,
   "metadata": {},
   "outputs": [],
   "source": [
    "def extraer_cuentas_usuarios(lista_cuentas, tweets):\n",
    "    # Each Tweet object has default ID and text fields\n",
    "    #cola = Queue()\n",
    "    for tweet in tweets:\n",
    "        id_usuario= tweet.author_id\n",
    "        #cola.put(client.get_user(id=id_usuario))\n",
    "        lista_cuentas.append(\n",
    "            client.get_user(\n",
    "                id=id_usuario,\n",
    "                user_fields=['id', 'username', 'location'],\n",
    "            ).data\n",
    "        )\n",
    "\n",
    "    print(len(lista_cuentas))"
   ]
  },
  {
   "cell_type": "code",
   "execution_count": 9,
   "metadata": {},
   "outputs": [
    {
     "name": "stdout",
     "output_type": "stream",
     "text": [
      "31\n"
     ]
    }
   ],
   "source": [
    "# Search Recent Tweets\n",
    "# This endpoint/method returns Tweets from the last seven days\n",
    "#query = 'depresión yo tengo'\n",
    "query = 'biblioteca eafit'\n",
    "# The method returns a Response object, a named tuple with data, includes,\n",
    "# errors, and meta fields\n",
    "responses = tweepy.Paginator(\n",
    "    client.search_recent_tweets,\n",
    "    query,\n",
    "    tweet_fields=['id', 'author_id', 'text'],\n",
    "    max_results=100\n",
    ").flatten(limit=250)\n",
    "\n",
    "# In this case, the data field of the Response returned is a list of Tweet\n",
    "# objects\n",
    "usuarios = []\n",
    "for response in responses:\n",
    "    extraer_cuentas_usuarios(usuarios, responses)\n",
    "\n",
    "\n",
    "\n"
   ]
  },
  {
   "cell_type": "code",
   "execution_count": null,
   "metadata": {},
   "outputs": [],
   "source": [
    "for usuario in cuentas_usuarios:\n",
    "    print(usuario.location)"
   ]
  },
  {
   "cell_type": "code",
   "execution_count": null,
   "metadata": {},
   "outputs": [],
   "source": [
    "usuarios = []\n",
    "for usuario in cuentas_usuarios:\n",
    "    if (usuario.location is not None):\n",
    "        if ('Medellin' in usuario.location) or ('Medellín' in usuario.location) or ('medellin' in usuario.location) or ('medellín' in usuario.location):\n",
    "            usuarios.append(usuario.username)"
   ]
  },
  {
   "cell_type": "code",
   "execution_count": null,
   "metadata": {},
   "outputs": [],
   "source": [
    "print(usuarios)"
   ]
  },
  {
   "cell_type": "code",
   "execution_count": null,
   "metadata": {},
   "outputs": [],
   "source": []
  },
  {
   "cell_type": "code",
   "execution_count": null,
   "metadata": {},
   "outputs": [],
   "source": [
    "usuarios_globales = set(usuarios)"
   ]
  },
  {
   "cell_type": "code",
   "execution_count": null,
   "metadata": {},
   "outputs": [],
   "source": []
  },
  {
   "cell_type": "code",
   "execution_count": null,
   "metadata": {},
   "outputs": [],
   "source": [
    "\n",
    "\n",
    "# #print(tweets)\n",
    "\n",
    "# # Each Tweet object has default ID and text fields\n",
    "# for tweet in tweets:\n",
    "#     print(tweet.id)\n",
    "#     print(tweet)\n",
    "#     print(tweet.text)"
   ]
  }
 ],
 "metadata": {
  "kernelspec": {
   "display_name": "Python 3.10.5 ('.venv': venv)",
   "language": "python",
   "name": "python3"
  },
  "language_info": {
   "codemirror_mode": {
    "name": "ipython",
    "version": 3
   },
   "file_extension": ".py",
   "mimetype": "text/x-python",
   "name": "python",
   "nbconvert_exporter": "python",
   "pygments_lexer": "ipython3",
   "version": "3.10.5"
  },
  "orig_nbformat": 4,
  "vscode": {
   "interpreter": {
    "hash": "4c9a5e9c047fc733d9313123a6e4ccecb6e7c397a0c0cfba3ec0c51c8c8008e1"
   }
  }
 },
 "nbformat": 4,
 "nbformat_minor": 2
}
