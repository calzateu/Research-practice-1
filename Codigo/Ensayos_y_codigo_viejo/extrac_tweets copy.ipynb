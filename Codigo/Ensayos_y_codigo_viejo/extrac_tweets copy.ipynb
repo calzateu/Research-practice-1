{
 "cells": [
  {
   "cell_type": "code",
   "execution_count": 2,
   "metadata": {},
   "outputs": [],
   "source": [
    "import os\n",
    "import tweepy\n",
    "from dotenv import load_dotenv\n",
    "#from queue import Queue"
   ]
  },
  {
   "cell_type": "code",
   "execution_count": 3,
   "metadata": {},
   "outputs": [],
   "source": [
    "load_dotenv()\n",
    "\n",
    "consumer_key = os.environ[\"API_KEY\"]\n",
    "consumer_secret = os.environ[\"API_KEY_SECRET\"]\n",
    "access_token = os.environ[\"ACCESS_TOKEN\"]\n",
    "access_token_secret = os.environ[\"ACCESS_TOKEN_SECRET\"]\n",
    "bearer_token = os.environ[\"BEARER_TOKEN\"]\n",
    "\n",
    "\n",
    "client = tweepy.Client(\n",
    "  bearer_token=bearer_token,\n",
    "  consumer_key=consumer_key,\n",
    "  consumer_secret=consumer_secret,\n",
    "  access_token=access_token,\n",
    "  access_token_secret=access_token_secret,\n",
    "  #return_type = requests.Response,\n",
    "  wait_on_rate_limit=True\n",
    ")"
   ]
  },
  {
   "cell_type": "code",
   "execution_count": 4,
   "metadata": {},
   "outputs": [],
   "source": [
    "def extraer_cuentas_usuarios(lista_cuentas, tweets):\n",
    "    # Each Tweet object has default ID and text fields\n",
    "    #cola = Queue()\n",
    "    for tweet in tweets:\n",
    "        id_usuario= tweet.author_id\n",
    "        #cola.put(client.get_user(id=id_usuario))\n",
    "        lista_cuentas.append(\n",
    "            client.get_user(\n",
    "                id=id_usuario,\n",
    "                user_fields=['id', 'username', 'location'],\n",
    "            ).data\n",
    "        )\n",
    "\n",
    "    print(len(lista_cuentas))"
   ]
  },
  {
   "cell_type": "code",
   "execution_count": 21,
   "metadata": {},
   "outputs": [
    {
     "name": "stdout",
     "output_type": "stream",
     "text": [
      "[<Tweet id=1547198252650577920 text='Me emputa muchísimo, porque aunque yo no tenga depresión, sí tengo varias personas cercanas a mí que la tienen y me consta la lucha diaria que es para ser “funcional” en esta sociedad, para que igual cuando lo sean les cierren la puerta porque asumen que no van a poder.'>, <Tweet id=1547197210785357829 text='El trabajo más pesado lo tengo yo, luchar contra la depresión y tener todos los días turno en una clínica de 7am a 9pm \\U0001fae1'>, <Tweet id=1547170801459335175 text='-La Aitana: Vos sos la más adulta del grupo, sos monotributista y tenés trabajo estable.\\n-Yo: Pero soy alcohólica y tengo depresión.\\n-La Aitana: Bueno, ahí si tenemos un problema.'>, <Tweet id=1547168070405341184 text='@juancar27172435 @ElRepublicano09 Para Julián Román si yo tengo 10 vacas soy un Ben catway (bonanza),como yo creer qu el es harley Davison(el sobrevivió a la depresión económica de 1900)'>, <Tweet id=1547165859671670785 text='Todo el mundo con el gachapon super alegres teniendo todo lo q quieren Kazuha Klee Heizou \\nAlso yo lo único q tengo es depresión'>, <Tweet id=1547164344416354310 text='Tú sabes lo que es tener depresión pues eso lo tengo yo'>, <Tweet id=1547155425186963456 text='@gomez99_raul Yo tengo depresión en la depresión'>, <Tweet id=1547135525496184838 text='Mihoyo y mis islas?????\\nY yo pensando que iban a poner las islas nada más empezar la 2.8, osea que depresión tengo ahora mismo'>, <Tweet id=1547117043337527296 text='La prepa fue una de las etapas más duras de mi vida, yo no tengo nada que celebrar, mis ejemplos ya no están y la depresión aún continua.'>, <Tweet id=1547116136776474624 text='Yo sé que esto no le importa a nadie, esto es solo para desahogarme.\\nNo tengo amigos, ni familia y la única persona a la que le importo lo pasa mal por mi culpa, por mi depresión y mi anisedad y vete a saber que más. Solo quería un trabajo para poder tener una vida mejor.'>, <Tweet id=1547108676120596480 text='Sentir mal,de cargar con el peso de ambas partes pa salir adelante, de estarles rogando, de estarlos buscando \\n&amp; SI SE QUE COMO PERSONA CON DEPRESIÓN ESTAS MIL VECES PEOR QUE YO PERO TAMBIEN TENGO DERECHO A DESAHOGARME PORQUE TU SOLO PIENSAS EN TI PARA BIEN O PARA MAL'>, <Tweet id=1547100621987364866 text='mientras yo tengo depresión por el concierto de skz ivan tiene depresión por problemas amorosos, que cosas'>, <Tweet id=1547099774356058112 text='Ps yo tengo depresión https://t.co/7Z6t103Oed'>, <Tweet id=1547087818442391552 text='RT @QueSobrao: Yo no he caido en depresion porque me tengo a mi mismo pa animarme y hacerme reir'>, <Tweet id=1547074644502425601 text='@Luisdavichote Yo tengo depresión imagina'>, <Tweet id=1547074451405250561 text='RT @desapropiacion: Mucho during y after sex y yo lo único que tengo es during y after depresión.'>, <Tweet id=1547073526598967296 text='RT @santanuchis: -alguien tiene un pritt?\\n-yo tengo… depresión \\n\\nmissing this :('>, <Tweet id=1547068973350408192 text='@Hurona_Rolera Bueno yo atravesé una depresión muy fuerte, de unos 4 años aprox, y siendo que nunca baje los brazos, sinceramente fue psicólogo, familia y trabajo lo que me sacó adelante, hoy en día aún no tengo el alta pero estoy mucho mejor, puedo hablar de mis problemas sin miedo...'>, <Tweet id=1547068042701570050 text='@Malviajentina Yo tengo depresión y mi hermana estudió psicología. Perdón por no saber nada jajaj🤣'>, <Tweet id=1547067069874614277 text='Soy una persona que tiene trastorno bipolar y todo lo que esto incluye como depresión, ansiedad, manías, etc. No tengo a nadie que me apoye más que yo mismo porque las personas piensan que es todo una actuación, por lo que solo voy al hospital, solo sigo mi tratamiento'>, <Tweet id=1547062142725234692 text='RT @leidypaolaaa00: Yo estoy obsesionada con el éxito , esa es mi depresión. Yo no sufro por amor y tampoco tengo inseguridades, todo eso l…'>, <Tweet id=1547060385458651136 text='yo debi de ser oriental en mi otra vida. Estaba trabajando y me dio depresion rudo porq dije esto q estoy haciendo me va a tomar 4 dias y tengo q terminarlo en un dia y me tiro la depresion y me dormi, me desperte con pesades, una vez dicho VALE VERGA LA VIDA!!! dije no a ver!!!'>, <Tweet id=1547057242326929409 text='RT @AviGallo: No se cómo voy a hacer para que se me pase la depresión de que Reik viene a Venezuela y yo no tengo como ir a ccs yo sola 🥲🥲🥲…'>, <Tweet id=1547054092400443398 text='“Tienes astigmatismo o miopía?” \\nyo: tengo depresión'>, <Tweet id=1547052659110297600 text='me pasó de q yo siento q me arrebataron tantas cosas durante años q pasé en depresión y no haciendo las cosas q debería haber hecho y ahora son medio tarde, ya se q tengo 24 pero me siento q se me pasó la vida a veces odio ese sentimiento https://t.co/n4Ni6ns70J'>, <Tweet id=1547052009802678272 text='@pcyphoria pues es lo que mas he querido desde que tengo como 9 años fjdbj, solo siento que perdi las ganas desde que me dio depresion jjjj pero aun quiero estar bien segura de hacerlo, yo creo que si'>, <Tweet id=1547042722435014656 text='La depresión que yo tengo ahora no se la regalo a nadie'>, <Tweet id=1547040283615023112 text='Yo estoy obsesionada con el éxito , esa es mi depresión. Yo no sufro por amor y tampoco tengo inseguridades, todo eso lo veo pequeño , yo lo que quiero es ser muy grande y tener la misma vida que tengo en mi mente todo el día !'>, <Tweet id=1547033177163800577 text='@galletitamaria2 Yo tampoco, tengo depresión y ansiedad, mi cerebro va más rápido que mis pensamientos y la limpieza lo calma.'>, <Tweet id=1547023061945405441 text='Yo más que nadie conoce lo que es la verdadera soledad. No la tengo a mi mamá, con mi pa tenemos poca relación y ahora a mi hermano lo tengo lejos. Entrando en una depresión bárbara estoy🥺'>, <Tweet id=1547021738508263425 text='tengo un grupo compartido con mis otros yo y me comparto cada au, la depresión q te da dejar y terminar uno dioss'>, <Tweet id=1547019346542841856 text='RT @rkvejeon: pueden dejar de subir fotos y vídeos con kit por favor es que yo no tengo y entro en depresión por su culpa'>, <Tweet id=1547018507329699842 text='@IbaiLlanos yo porfi tengo depresión me llevas?'>, <Tweet id=1547012915647066112 text='No me importa dónde está la luna por que yo ya tengo depresión'>, <Tweet id=1547011954086117377 text='@RuisenoraPerez Sí... yo tengo un humor de la hostia y me lo he pasado en grande. Me he pegado unas fiestas del 15 que mucha gente ni en sueños... Y eso no quita que tenga depresión clínica crónica desde los 15 y diagnosticada y tratada desde los 30.\\n\\nHay cosas que van por dentro.'>, <Tweet id=1547004629413761025 text='RT @desapropiacion: Mucho during y after sex y yo lo único que tengo es during y after depresión.'>, <Tweet id=1546998389664927744 text='RT @santanuchis: -alguien tiene un pritt?\\n-yo tengo… depresión \\n\\nmissing this :('>, <Tweet id=1546990688650264579 text='Yo tengo derecho a 2000 euros ( 10 millones de pesos) en Francia de pension por invalidez según la Ley y el médico laboral por secuelas de cáncer, depresión mayor, encefalomielitis, autismo y t. e. a. Pero yo ni lo pido. Yo quiero volver a trabajar. Acá en Col ni existe eso.'>, <Tweet id=1546990363608432640 text='Mucho during y after sex y yo lo único que tengo es during y after depresión.'>, <Tweet id=1546981841328021504 text='-alguien tiene un pritt?\\n-yo tengo… depresión \\n\\nmissing this :('>, <Tweet id=1546974069291192321 text='@infobetis120 @Penitentesev_3 @1994Betico Yo tengo una pena por haber ganado el título compadre…hasta depresión he cogido iluminao…jajajajajajaajajajajajajajajajajajajajajajajajajajajajajajajajajajajajajajajajajajajajajajajajajajajajajajajajajjaajjajajajajajajajajajajajajajajajajajajajaajjajajajajajajajajajajajajajajaj https://t.co/Ogbmlu8wXD'>, <Tweet id=1546964262970687490 text='Yo tengo todas las anteriores y depresión \\U0001f979 https://t.co/DWfbNOTVHn'>, <Tweet id=1546963106336735237 text='Si yo paso el examen de mañana será por gracia de Dios porque mi cerebro ya no puede más; hasta fiebre tengo. No presenten exámenes saliendo de la depresión porque pega horrible el desgaste mental.'>, <Tweet id=1546960632834150401 text='yo tengo dos cuentas, en una soy la persona mas feliz y en la otra tengo depresión, así funciono yo🤧'>, <Tweet id=1546954298843701248 text='Tengo depresión, estoy enamorada o doy una gánster\\nni yo lo se https://t.co/uM55BIgyHx'>, <Tweet id=1546953179144888320 text='Esas mamadas de qué yo siempre al mil, wey, tengo depresión jajaja mi mood en insta es una máscara'>, <Tweet id=1546952878035697666 text='pueden dejar de subir fotos y vídeos con kit por favor es que yo no tengo y entro en depresión por su culpa'>, <Tweet id=1546952668693909504 text='cómo estáis yo he descubierto un mundo en el buceo y ahora sueño solo con la próxima vez en que pueda estar bajo el agua y tengo depresión postinmersiones'>, <Tweet id=1546946821880176641 text='@Maryloyalsanche Te entiendo, pero yo tengo que ser optimista por pura necesidad, porque la otra alternativa es la depresión.'>, <Tweet id=1546943094742024192 text='tengo seguidores en Twitter q se la pasan etiquetando y respondiendo tweets y luego estoy yo, publicando mi depresión en Twitter'>, <Tweet id=1546935799341629443 text='yo yendome a dormir cada momento que tengo tiempo libre sabiendo ke solo m empeora la depresión'>, <Tweet id=1546925679844925440 text='@NaoShakt Yo tampoco tengo control de mi vida bro, no se que hacer, también tengo 22 años y cada dia que pasa me siento mas triste y solo en la vida no se que va ser de mi si la soledad y depresión persisten.'>, <Tweet id=1546901406988353537 text='Lamento mucho, que hayas tenido que verme en uno de mis puntos más bajos de mi depresión, se que te esfuerzas por entenderme y solo tengo que decir, muchas gracias por esto, te amo ma y prometo que tendrás mucho más de mi.💗🥺\\nY mil gracias más por pensar que yo soy una modelo JA https://t.co/3TybvZiaN9'>, <Tweet id=1546899819549134849 text='Por ahí me auto felicitó porque me sorprende la capacidad que tengo de seguir haciendo todo lo que hago con la depresión de mierda que tengo\\nA veces ni yo me la creo'>, <Tweet id=1546872541490384896 text='Porque si klk yo tengo depresión diagnosticada por mi https://t.co/PtGWLLSZsh'>, <Tweet id=1546866610404737027 text='{ vi que Chifuyu es tendencia y pues nada, sólo diré que si me lo matan, yo caeré en una gran depresión. No es mi husbando, pero creo que es mi pj fav y le tengo mucho cariño, en verdad voy a llorar 🥺'>, <Tweet id=1546860105089441793 text='Me daba pena pedirle a mi papá dinero para empezar mi proceso psiquiátrico pero ya lo pensé bien y quien chinga paga, y yo tengo ansiedad y depresión por mi no tan bonita niñez, ni modo.'>, <Tweet id=1546854994267308034 text='@gojosugurus @get0sbangs por favor q yo todavía tengo depresión por aki'>, <Tweet id=1546844351246077954 text='¿trabajar? no jaja, yo tengo depresión y a veces falto'>, <Tweet id=1546841560104435713 text='@IrvingRebolledo @chiqcast Les iba a poner yo tengo salud pero la anemia, bulimia y depresión se burlarían de mí, feliz porque sean felices 😩😩'>, <Tweet id=1546826223036375040 text='RT @imgeis: Tengo marcas en mis manos que no puedo esconder (tampoco pretendo), tengo ansiedad y depresión, (no pareciera porque lo oculto)…'>, <Tweet id=1546820700937375745 text='@karimanesr Yo Tengo problemas de ansiedad, ataques de panico, estres y depresion mas de tres años, estuve medicado pero por la falta de personal medico estoy por mi cuenta y ahora llevo 16/8 un Poco mas de un mes claro fui progresivamente, solo tomo agua, es dificil pero estoy mejorando'>, <Tweet id=1546803564995125248 text='@InMadnessland @sryogur Hombre yo almenos tengo lo más esencial para interpretar a Shinji... depresión\\xa0🤘😔🤘'>, <Tweet id=1546779187670810624 text='COMO QUE CASI SE CUMPLE UN MES DE QUE VI A LOUIS????? VETE A LA VRG, YO TODAVÍA TENGO DEPRESIÓN POST CONCIERTO'>, <Tweet id=1546771355051253760 text='skz i yo estamos viendo la misma luna creo q tengo depresión'>, <Tweet id=1546766941498626048 text='@sefueyvolvio @bunsibunbuns @EugniadelaBarra @dmillanlopez Yo tengo ese problema y mi esposa es TEA también en ansiedad y depresión y necesita paz y tranquilidad y lleva fatal que me ponga nervioso pero no puedo evitarlo, cómo se hace y sin posibilidad de profesional atendiendo xq no tenemos dinero?'>, <Tweet id=1546759521728618496 text='yo no sé si tengo depresión porque nunca me han diagnosticado nada pero el otro día me dijeron más de la mitad de estas cosas y acabé yéndome a mi cuarto a llorar https://t.co/YBW27fODFT'>, <Tweet id=1546754284452282369 text='yo también tengo depresión post resu quiero volver :('>, <Tweet id=1546737473929318402 text='Yo solía tener episodios de\\ndepresión. Ahora tengo la serie\\ncompleta jajaja la temporada 12 ya\\nestá por llegar, no se la pierdan.'>, <Tweet id=1546725176951185408 text='@MikevanTreek Kast esta enfermo más que yo.\\nYo tengo depresión, pero ese loco esta cucu\\n🙈😁😁😁😁😁'>, <Tweet id=1546722888115437570 text='@valecitaaaa_ Yo tengo depresión 🥲'>, <Tweet id=1546718837382545408 text='Yo soy un 10, pero tengo depresión mayor, ansiedad generalizada y dependencia emocional. A parte soy muy sensible, todo me afecta un montón y me toma tiempo entender qué siento; sin embargo, voy a terapia y tomo medicamentos. Entonces estoy hecha un 8, pero quiero bonito.'>, <Tweet id=1546704064867696643 text='No tengo depresión (al menos que yo sepa), pero cuando estoy realmente bajoneado es lo que mas me repiten, es molesto https://t.co/P1lMmavpvr'>, <Tweet id=1546703314556968960 text='RT @youtubesaccoun1: Hay cosas peores. Yo tuve cáncer y soy diferente, tengo depresión mayor, encefalomielitis, autismo y t.e.a. Desde que…'>, <Tweet id=1546703129256902657 text='Hay cosas peores. Yo tuve cáncer y soy diferente, tengo depresión mayor, encefalomielitis, autismo y t.e.a. Desde que renuncié a mi trabajo en París y me vine a Colombia me siento rara. Disfruto a mis padres, pero siento que no es lo mio. https://t.co/fJN8LldQ4I'>, <Tweet id=1546683592386170880 text='@saturight_ Yo, de alguna manera tengo que salir de esta depresión'>, <Tweet id=1546683407668858880 text='@lamoniba Yo tengo depresión y ansiedad. Me gustaría saber cómo sucede que uno llega a ese punto. En serio me gustaría saber. Me contaría?'>, <Tweet id=1546682733451255808 text='Tengo marcas en mis manos que no puedo esconder (tampoco pretendo), tengo ansiedad y depresión, (no pareciera porque lo oculto) pero me siento agotada de tantas cosas feas que me dicen sin saber que yo no busque esa enfermedad, nadie quiere sufrir de eso! SEAN EMPATICOS!🤫'>, <Tweet id=1546675254831063040 text='Me pregunto que hice yo \\nComo pata que me hacken la cuenta de Genshin,Face e insta\\n\\nNo lloro \\nPorque tengo fe que Hoyoverse me ayude con la cuenta pero 25 días tengo que esperar y si no lo logran entro en depresión'>, <Tweet id=1546669422407974913 text='quiero ser el verdadero \"yo también tengo depresión, ¿por qué piensas que me veo así?\" de euphoria. el tema está en cuándo lo conseguiré jshdjgk'>, <Tweet id=1546666453885014016 text='@hyuninfnaferos me lei 2 libros fuera de los aus y termine cn depresion pq me ases est9 yo ya tengo depresión (no es bait lamentablemente)'>, <Tweet id=1546662130929340417 text='me da risa porque se la vive diciendo que tengo depresión (sin siquiera llevarme al psicólogo) pero luego viene y me trata de la mierda y espera que con eso yo me sienta bien, ojalá poder decirle que me provoca ganas de morirme pero seguramente me termine yendo peor'>, <Tweet id=1546661934283603968 text='Me alegra mucho ver gente que emigro y tiene amigos. Yo emigre y solo tengo depresión'>, <Tweet id=1546657264467075073 text='mi mamá me preguntó que pq duermo mucho y le dije no se tal vez tengo depresión yo q se y se fue'>, <Tweet id=1546650877729116162 text='@JacoboG_Ecu Yo tengo ya varios casos de depresión e ideación suicida y me toca apoyarme con el MSP para un proceso terapéutico.\\n\\nEl problema? No hay psicólogos clínicos en el MSP y una cita privada es prohibitiva $$.\\n\\nAntes cada subcentro si tenía atención psicológica.'>, <Tweet id=1546633488144670721 text='Oigan creo que voy a entrar en depresión 😩😪 amigas muy cercanas se van a casar , les han propuesto matrimonio y otras ya se casaron y yo ??? Ni novio tengo 😩😆'>, <Tweet id=1546632850736390146 text='@kuroashit yo tengo ya tremenda idealización en mi cabeza de esas dos si salgo decepcionada d ahí caigo en una depresión seguramente'>, <Tweet id=1546624395531231237 text='no sé si darle fb por q tiene en el dfi q no le gustan los chistes suicidas y yo hago por lo menos uno cada tres palabras perdon tengo depresión'>, <Tweet id=1546619912898199553 text='Me he visto en los dos lados, y siendo una situacion dificil es normal que a mucha peña le sobrepase, más si resulta que su vida se han topado con alguno de esos problemas, o los han evitado. La experiencia que yo tengo con alguien con depresión, me sobrepasó, aun viendome'>, <Tweet id=1546617718396313600 text='Juro que tremenda depresión me esta dando, yo no tengo dinero para gastarme ahora 200 pavos en un movil y no puedo estar sin movil porque es que ni wifi entonces'>, <Tweet id=1546617609726181377 text='Carla: tengo un poquito de depresión\\nYo: khé\\nElla: de presión \\nYo: ah'>, <Tweet id=1546615708209057792 text='@daniel_ayalaf bro yo tengo depresión por favor entiéndeme  😭'>, <Tweet id=1546610443103395840 text='@Tornexcomunismo yo la tngo y no follo tengo depresion'>, <Tweet id=1546609846413410304 text='yo hago esto pero día en semana voy y me compro unos bites de pretzel y ya no tengo depresión, de nada https://t.co/fLroxPrlr9'>, <Tweet id=1546608544773971970 text='@Soranomas Yo ya tengo el trabajo y la depresión.\\n\\nLa que consiguió es mi hija Coky'>, <Tweet id=1546604893871476739 text='Yo me rio de la situación del país pq si me pongo a analizar con seriedad, me doy cuenta que la economía está un caos, no tengo trabajo, la vida está demasiado incierta y empiezo a entrar en depresión entonces mejor reírnos pa no colapsar jejeje\\n\\n*ayuda*'>]\n"
     ]
    }
   ],
   "source": [
    "# Search Recent Tweets\n",
    "# This endpoint/method returns Tweets from the last seven days\n",
    "query = 'depresión yo tengo'\n",
    "#query = 'Petro'\n",
    "# The method returns a Response object, a named tuple with data, includes,\n",
    "# errors, and meta fields\n",
    "\n",
    "cuentas_usuarios = []\n",
    "for response in tweepy.Paginator(client.search_recent_tweets,\n",
    "                                query,\n",
    "                                tweet_fields=['id', 'author_id', 'text'],\n",
    "                                user_fields=['id', 'username', 'location'],\n",
    "                                expansions='author_id',\n",
    "                                max_results=100, limit=1):#.flatten(limit=100):\n",
    "    #extraer_cuentas_usuarios(cuentas_usuarios, response)\n",
    "    #print(response.)\n",
    "    print(response.data)\n",
    "    break\n",
    "\n"
   ]
  },
  {
   "cell_type": "code",
   "execution_count": null,
   "metadata": {},
   "outputs": [],
   "source": [
    "print(cuentas_usuarios)"
   ]
  },
  {
   "cell_type": "code",
   "execution_count": null,
   "metadata": {},
   "outputs": [],
   "source": [
    "for usuario in cuentas_usuarios:\n",
    "    print(usuario.location)"
   ]
  },
  {
   "cell_type": "code",
   "execution_count": 18,
   "metadata": {},
   "outputs": [],
   "source": [
    "usuarios = []\n",
    "for usuario in cuentas_usuarios:\n",
    "    if (usuario.location is not None):\n",
    "        if ('Medellin' in usuario.location) or ('Medellín' in usuario.location) or ('medellin' in usuario.location) or ('medellín' in usuario.location):\n",
    "            usuarios.append(usuario.username)"
   ]
  },
  {
   "cell_type": "code",
   "execution_count": 19,
   "metadata": {},
   "outputs": [
    {
     "name": "stdout",
     "output_type": "stream",
     "text": [
      "['dijaceau', 'SILIMAR', 'LigiaCristi', 'SILIMAR', 'DanielSanin', 'mprchona', 'Burns055']\n"
     ]
    }
   ],
   "source": [
    "print(usuarios)"
   ]
  },
  {
   "cell_type": "code",
   "execution_count": null,
   "metadata": {},
   "outputs": [],
   "source": []
  },
  {
   "cell_type": "code",
   "execution_count": 21,
   "metadata": {},
   "outputs": [],
   "source": [
    "usuarios_globales = set(usuarios)"
   ]
  },
  {
   "cell_type": "code",
   "execution_count": 22,
   "metadata": {},
   "outputs": [
    {
     "name": "stdout",
     "output_type": "stream",
     "text": [
      "{'Burns055', 'dijaceau', 'SILIMAR', 'DanielSanin', 'LigiaCristi', 'mprchona'}\n"
     ]
    }
   ],
   "source": [
    "print(usuarios_globales)"
   ]
  },
  {
   "cell_type": "code",
   "execution_count": null,
   "metadata": {},
   "outputs": [],
   "source": []
  },
  {
   "cell_type": "code",
   "execution_count": null,
   "metadata": {},
   "outputs": [],
   "source": []
  },
  {
   "cell_type": "code",
   "execution_count": null,
   "metadata": {},
   "outputs": [],
   "source": []
  },
  {
   "cell_type": "code",
   "execution_count": null,
   "metadata": {},
   "outputs": [],
   "source": [
    "\n",
    "\n",
    "# #print(tweets)\n",
    "\n",
    "# # Each Tweet object has default ID and text fields\n",
    "# for tweet in tweets:\n",
    "#     print(tweet.id)\n",
    "#     print(tweet)\n",
    "#     print(tweet.text)"
   ]
  }
 ],
 "metadata": {
  "kernelspec": {
   "display_name": "Python 3.10.5 ('.venv': venv)",
   "language": "python",
   "name": "python3"
  },
  "language_info": {
   "codemirror_mode": {
    "name": "ipython",
    "version": 3
   },
   "file_extension": ".py",
   "mimetype": "text/x-python",
   "name": "python",
   "nbconvert_exporter": "python",
   "pygments_lexer": "ipython3",
   "version": "3.10.5"
  },
  "orig_nbformat": 4,
  "vscode": {
   "interpreter": {
    "hash": "dce45552546143797d12740f0dd1c87bc0051527baf81aaa2653ef4382ed2b65"
   }
  }
 },
 "nbformat": 4,
 "nbformat_minor": 2
}
